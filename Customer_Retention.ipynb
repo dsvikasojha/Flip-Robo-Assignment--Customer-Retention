{
 "cells": [
  {
   "cell_type": "code",
   "execution_count": 2,
   "metadata": {},
   "outputs": [],
   "source": [
    "# Importing Required libraries\n",
    "import pandas as pd\n",
    "import numpy as np\n",
    "import matplotlib.pyplot as plt\n",
    "import seaborn as sns\n",
    "import warnings\n",
    "warnings.filterwarnings('ignore')"
   ]
  },
  {
   "cell_type": "code",
   "execution_count": 4,
   "metadata": {},
   "outputs": [
    {
     "data": {
      "text/html": [
       "<div>\n",
       "<style scoped>\n",
       "    .dataframe tbody tr th:only-of-type {\n",
       "        vertical-align: middle;\n",
       "    }\n",
       "\n",
       "    .dataframe tbody tr th {\n",
       "        vertical-align: top;\n",
       "    }\n",
       "\n",
       "    .dataframe thead th {\n",
       "        text-align: right;\n",
       "    }\n",
       "</style>\n",
       "<table border=\"1\" class=\"dataframe\">\n",
       "  <thead>\n",
       "    <tr style=\"text-align: right;\">\n",
       "      <th></th>\n",
       "      <th>1Gender of respondent</th>\n",
       "      <th>2 How old are you?</th>\n",
       "      <th>3 Which city do you shop online from?</th>\n",
       "      <th>4 What is the Pin Code of where you shop online from?</th>\n",
       "      <th>5 Since How Long You are Shopping Online ?</th>\n",
       "      <th>6 How many times you have made an online purchase in the past 1 year?</th>\n",
       "      <th>7 How do you access the internet while shopping on-line?</th>\n",
       "      <th>8 Which device do you use to access the online shopping?</th>\n",
       "      <th>9 What is the screen size of your mobile device?\\t\\t\\t\\t\\t\\t</th>\n",
       "      <th>10 What is the operating system (OS) of your device?\\t\\t\\t\\t</th>\n",
       "      <th>...</th>\n",
       "      <th>Longer time to get logged in (promotion, sales period)</th>\n",
       "      <th>Longer time in displaying graphics and photos (promotion, sales period)</th>\n",
       "      <th>Late declaration of price (promotion, sales period)</th>\n",
       "      <th>Longer page loading time (promotion, sales period)</th>\n",
       "      <th>Limited mode of payment on most products (promotion, sales period)</th>\n",
       "      <th>Longer delivery period</th>\n",
       "      <th>Change in website/Application design</th>\n",
       "      <th>Frequent disruption when moving from one page to another</th>\n",
       "      <th>Website is as efficient as before</th>\n",
       "      <th>Which of the Indian online retailer would you recommend to a friend?</th>\n",
       "    </tr>\n",
       "  </thead>\n",
       "  <tbody>\n",
       "    <tr>\n",
       "      <th>0</th>\n",
       "      <td>Male</td>\n",
       "      <td>31-40 years</td>\n",
       "      <td>Delhi</td>\n",
       "      <td>110009</td>\n",
       "      <td>Above 4 years</td>\n",
       "      <td>31-40 times</td>\n",
       "      <td>Dial-up</td>\n",
       "      <td>Desktop</td>\n",
       "      <td>Others</td>\n",
       "      <td>Window/windows Mobile</td>\n",
       "      <td>...</td>\n",
       "      <td>Amazon.in</td>\n",
       "      <td>Amazon.in</td>\n",
       "      <td>Flipkart.com</td>\n",
       "      <td>Flipkart.com</td>\n",
       "      <td>Amazon.in</td>\n",
       "      <td>Paytm.com</td>\n",
       "      <td>Flipkart.com</td>\n",
       "      <td>Amazon.in</td>\n",
       "      <td>Amazon.in</td>\n",
       "      <td>Flipkart.com</td>\n",
       "    </tr>\n",
       "    <tr>\n",
       "      <th>1</th>\n",
       "      <td>Female</td>\n",
       "      <td>21-30 years</td>\n",
       "      <td>Delhi</td>\n",
       "      <td>110030</td>\n",
       "      <td>Above 4 years</td>\n",
       "      <td>41 times and above</td>\n",
       "      <td>Wi-Fi</td>\n",
       "      <td>Smartphone</td>\n",
       "      <td>4.7 inches</td>\n",
       "      <td>IOS/Mac</td>\n",
       "      <td>...</td>\n",
       "      <td>Amazon.in, Flipkart.com</td>\n",
       "      <td>Myntra.com</td>\n",
       "      <td>snapdeal.com</td>\n",
       "      <td>Snapdeal.com</td>\n",
       "      <td>Snapdeal.com</td>\n",
       "      <td>Snapdeal.com</td>\n",
       "      <td>Amazon.in</td>\n",
       "      <td>Myntra.com</td>\n",
       "      <td>Amazon.in, Flipkart.com</td>\n",
       "      <td>Amazon.in, Myntra.com</td>\n",
       "    </tr>\n",
       "    <tr>\n",
       "      <th>2</th>\n",
       "      <td>Female</td>\n",
       "      <td>21-30 years</td>\n",
       "      <td>Greater Noida</td>\n",
       "      <td>201308</td>\n",
       "      <td>3-4 years</td>\n",
       "      <td>41 times and above</td>\n",
       "      <td>Mobile Internet</td>\n",
       "      <td>Smartphone</td>\n",
       "      <td>5.5 inches</td>\n",
       "      <td>Android</td>\n",
       "      <td>...</td>\n",
       "      <td>Myntra.com</td>\n",
       "      <td>Myntra.com</td>\n",
       "      <td>Myntra.com</td>\n",
       "      <td>Myntra.com</td>\n",
       "      <td>Amazon.in</td>\n",
       "      <td>Paytm.com</td>\n",
       "      <td>Paytm.com</td>\n",
       "      <td>Paytm.com</td>\n",
       "      <td>Amazon.in</td>\n",
       "      <td>Amazon.in, Paytm.com, Myntra.com</td>\n",
       "    </tr>\n",
       "    <tr>\n",
       "      <th>3</th>\n",
       "      <td>Male</td>\n",
       "      <td>21-30 years</td>\n",
       "      <td>Karnal</td>\n",
       "      <td>132001</td>\n",
       "      <td>3-4 years</td>\n",
       "      <td>Less than 10 times</td>\n",
       "      <td>Mobile Internet</td>\n",
       "      <td>Smartphone</td>\n",
       "      <td>5.5 inches</td>\n",
       "      <td>IOS/Mac</td>\n",
       "      <td>...</td>\n",
       "      <td>Snapdeal.com</td>\n",
       "      <td>Myntra.com, Snapdeal.com</td>\n",
       "      <td>Myntra.com</td>\n",
       "      <td>Paytm.com</td>\n",
       "      <td>Paytm.com</td>\n",
       "      <td>Paytm.com</td>\n",
       "      <td>Amazon.in, Flipkart.com</td>\n",
       "      <td>Amazon.in, Flipkart.com</td>\n",
       "      <td>Amazon.in, Flipkart.com, Paytm.com</td>\n",
       "      <td>Amazon.in, Flipkart.com</td>\n",
       "    </tr>\n",
       "    <tr>\n",
       "      <th>4</th>\n",
       "      <td>Female</td>\n",
       "      <td>21-30 years</td>\n",
       "      <td>Bangalore</td>\n",
       "      <td>530068</td>\n",
       "      <td>2-3 years</td>\n",
       "      <td>11-20 times</td>\n",
       "      <td>Wi-Fi</td>\n",
       "      <td>Smartphone</td>\n",
       "      <td>4.7 inches</td>\n",
       "      <td>IOS/Mac</td>\n",
       "      <td>...</td>\n",
       "      <td>Flipkart.com, Paytm.com</td>\n",
       "      <td>Paytm.com</td>\n",
       "      <td>Paytm.com</td>\n",
       "      <td>Paytm.com</td>\n",
       "      <td>Snapdeal.com</td>\n",
       "      <td>Paytm.com</td>\n",
       "      <td>Amazon.in</td>\n",
       "      <td>Snapdeal.com</td>\n",
       "      <td>Paytm.com</td>\n",
       "      <td>Amazon.in, Myntra.com</td>\n",
       "    </tr>\n",
       "    <tr>\n",
       "      <th>...</th>\n",
       "      <td>...</td>\n",
       "      <td>...</td>\n",
       "      <td>...</td>\n",
       "      <td>...</td>\n",
       "      <td>...</td>\n",
       "      <td>...</td>\n",
       "      <td>...</td>\n",
       "      <td>...</td>\n",
       "      <td>...</td>\n",
       "      <td>...</td>\n",
       "      <td>...</td>\n",
       "      <td>...</td>\n",
       "      <td>...</td>\n",
       "      <td>...</td>\n",
       "      <td>...</td>\n",
       "      <td>...</td>\n",
       "      <td>...</td>\n",
       "      <td>...</td>\n",
       "      <td>...</td>\n",
       "      <td>...</td>\n",
       "      <td>...</td>\n",
       "    </tr>\n",
       "    <tr>\n",
       "      <th>264</th>\n",
       "      <td>Female</td>\n",
       "      <td>21-30 years</td>\n",
       "      <td>Solan</td>\n",
       "      <td>173212</td>\n",
       "      <td>1-2 years</td>\n",
       "      <td>Less than 10 times</td>\n",
       "      <td>Mobile Internet</td>\n",
       "      <td>Smartphone</td>\n",
       "      <td>5.5 inches</td>\n",
       "      <td>Android</td>\n",
       "      <td>...</td>\n",
       "      <td>Amazon.in</td>\n",
       "      <td>Amazon.in</td>\n",
       "      <td>Amazon.in</td>\n",
       "      <td>Amazon.in</td>\n",
       "      <td>Amazon.in</td>\n",
       "      <td>Amazon.in</td>\n",
       "      <td>Amazon.in</td>\n",
       "      <td>Amazon.in</td>\n",
       "      <td>Amazon.in</td>\n",
       "      <td>Amazon.in</td>\n",
       "    </tr>\n",
       "    <tr>\n",
       "      <th>265</th>\n",
       "      <td>Female</td>\n",
       "      <td>31-40 years</td>\n",
       "      <td>Ghaziabad</td>\n",
       "      <td>201008</td>\n",
       "      <td>1-2 years</td>\n",
       "      <td>31-40 times</td>\n",
       "      <td>Mobile Internet</td>\n",
       "      <td>Smartphone</td>\n",
       "      <td>Others</td>\n",
       "      <td>Android</td>\n",
       "      <td>...</td>\n",
       "      <td>Flipkart.com</td>\n",
       "      <td>Flipkart.com</td>\n",
       "      <td>Flipkart.com</td>\n",
       "      <td>Flipkart.com</td>\n",
       "      <td>Flipkart.com</td>\n",
       "      <td>Flipkart.com</td>\n",
       "      <td>Flipkart.com</td>\n",
       "      <td>Flipkart.com</td>\n",
       "      <td>Flipkart.com</td>\n",
       "      <td>Flipkart.com</td>\n",
       "    </tr>\n",
       "    <tr>\n",
       "      <th>266</th>\n",
       "      <td>Female</td>\n",
       "      <td>41-50 yaers</td>\n",
       "      <td>Bangalore</td>\n",
       "      <td>560010</td>\n",
       "      <td>2-3 years</td>\n",
       "      <td>Less than 10 times</td>\n",
       "      <td>Mobile internet</td>\n",
       "      <td>Laptop</td>\n",
       "      <td>Others</td>\n",
       "      <td>Window/windows Mobile</td>\n",
       "      <td>...</td>\n",
       "      <td>Amazon.in</td>\n",
       "      <td>Snapdeal.com</td>\n",
       "      <td>Amazon.in</td>\n",
       "      <td>Snapdeal.com</td>\n",
       "      <td>Snapdeal.com</td>\n",
       "      <td>Snapdeal.com</td>\n",
       "      <td>Snapdeal.com</td>\n",
       "      <td>Snapdeal.com</td>\n",
       "      <td>Amazon.in</td>\n",
       "      <td>Amazon.in</td>\n",
       "    </tr>\n",
       "    <tr>\n",
       "      <th>267</th>\n",
       "      <td>Female</td>\n",
       "      <td>Less than 20 years</td>\n",
       "      <td>Solan</td>\n",
       "      <td>173229</td>\n",
       "      <td>2-3 years</td>\n",
       "      <td>Less than 10 times</td>\n",
       "      <td>Wi-Fi</td>\n",
       "      <td>Smartphone</td>\n",
       "      <td>5.5 inches</td>\n",
       "      <td>Android</td>\n",
       "      <td>...</td>\n",
       "      <td>Amazon.in</td>\n",
       "      <td>Amazon.in, Myntra.com, Snapdeal.com</td>\n",
       "      <td>Amazon.in</td>\n",
       "      <td>Amazon.in, Snapdeal.com</td>\n",
       "      <td>Amazon.in</td>\n",
       "      <td>Amazon.in</td>\n",
       "      <td>Amazon.in</td>\n",
       "      <td>Myntra.com, Snapdeal.com</td>\n",
       "      <td>Myntra.com, Snapdeal.com</td>\n",
       "      <td>Amazon.in</td>\n",
       "    </tr>\n",
       "    <tr>\n",
       "      <th>268</th>\n",
       "      <td>Female</td>\n",
       "      <td>41-50 yaers</td>\n",
       "      <td>Ghaziabad</td>\n",
       "      <td>201009</td>\n",
       "      <td>2-3 years</td>\n",
       "      <td>31-40 times</td>\n",
       "      <td>Mobile Internet</td>\n",
       "      <td>Smartphone</td>\n",
       "      <td>5.5 inches</td>\n",
       "      <td>Android</td>\n",
       "      <td>...</td>\n",
       "      <td>Amazon.in</td>\n",
       "      <td>Amazon.in</td>\n",
       "      <td>Amazon.in</td>\n",
       "      <td>Amazon.in</td>\n",
       "      <td>Amazon.in</td>\n",
       "      <td>Amazon.in</td>\n",
       "      <td>Amazon.in</td>\n",
       "      <td>Amazon.in</td>\n",
       "      <td>Amazon.in</td>\n",
       "      <td>Amazon.in</td>\n",
       "    </tr>\n",
       "  </tbody>\n",
       "</table>\n",
       "<p>269 rows × 71 columns</p>\n",
       "</div>"
      ],
      "text/plain": [
       "    1Gender of respondent 2 How old are you?   \\\n",
       "0                    Male         31-40 years   \n",
       "1                  Female         21-30 years   \n",
       "2                  Female         21-30 years   \n",
       "3                    Male         21-30 years   \n",
       "4                  Female         21-30 years   \n",
       "..                    ...                 ...   \n",
       "264                Female         21-30 years   \n",
       "265                Female         31-40 years   \n",
       "266                Female         41-50 yaers   \n",
       "267                Female  Less than 20 years   \n",
       "268                Female         41-50 yaers   \n",
       "\n",
       "    3 Which city do you shop online from?  \\\n",
       "0                                   Delhi   \n",
       "1                                   Delhi   \n",
       "2                           Greater Noida   \n",
       "3                                 Karnal    \n",
       "4                              Bangalore    \n",
       "..                                    ...   \n",
       "264                                 Solan   \n",
       "265                             Ghaziabad   \n",
       "266                            Bangalore    \n",
       "267                                 Solan   \n",
       "268                             Ghaziabad   \n",
       "\n",
       "     4 What is the Pin Code of where you shop online from?  \\\n",
       "0                                               110009       \n",
       "1                                               110030       \n",
       "2                                               201308       \n",
       "3                                               132001       \n",
       "4                                               530068       \n",
       "..                                                 ...       \n",
       "264                                             173212       \n",
       "265                                             201008       \n",
       "266                                             560010       \n",
       "267                                             173229       \n",
       "268                                             201009       \n",
       "\n",
       "    5 Since How Long You are Shopping Online ?  \\\n",
       "0                                Above 4 years   \n",
       "1                                Above 4 years   \n",
       "2                                    3-4 years   \n",
       "3                                    3-4 years   \n",
       "4                                    2-3 years   \n",
       "..                                         ...   \n",
       "264                                  1-2 years   \n",
       "265                                  1-2 years   \n",
       "266                                  2-3 years   \n",
       "267                                  2-3 years   \n",
       "268                                  2-3 years   \n",
       "\n",
       "    6 How many times you have made an online purchase in the past 1 year?  \\\n",
       "0                                          31-40 times                      \n",
       "1                                   41 times and above                      \n",
       "2                                   41 times and above                      \n",
       "3                                   Less than 10 times                      \n",
       "4                                          11-20 times                      \n",
       "..                                                 ...                      \n",
       "264                                 Less than 10 times                      \n",
       "265                                        31-40 times                      \n",
       "266                                 Less than 10 times                      \n",
       "267                                 Less than 10 times                      \n",
       "268                                        31-40 times                      \n",
       "\n",
       "    7 How do you access the internet while shopping on-line?  \\\n",
       "0                                              Dial-up         \n",
       "1                                                Wi-Fi         \n",
       "2                                      Mobile Internet         \n",
       "3                                      Mobile Internet         \n",
       "4                                                Wi-Fi         \n",
       "..                                                 ...         \n",
       "264                                    Mobile Internet         \n",
       "265                                    Mobile Internet         \n",
       "266                                    Mobile internet         \n",
       "267                                              Wi-Fi         \n",
       "268                                    Mobile Internet         \n",
       "\n",
       "    8 Which device do you use to access the online shopping?  \\\n",
       "0                                              Desktop         \n",
       "1                                           Smartphone         \n",
       "2                                           Smartphone         \n",
       "3                                           Smartphone         \n",
       "4                                           Smartphone         \n",
       "..                                                 ...         \n",
       "264                                         Smartphone         \n",
       "265                                         Smartphone         \n",
       "266                                             Laptop         \n",
       "267                                         Smartphone         \n",
       "268                                         Smartphone         \n",
       "\n",
       "    9 What is the screen size of your mobile device?\\t\\t\\t\\t\\t\\t                                          \\\n",
       "0                                               Others                                                     \n",
       "1                                           4.7 inches                                                     \n",
       "2                                           5.5 inches                                                     \n",
       "3                                           5.5 inches                                                     \n",
       "4                                           4.7 inches                                                     \n",
       "..                                                 ...                                                     \n",
       "264                                         5.5 inches                                                     \n",
       "265                                             Others                                                     \n",
       "266                                             Others                                                     \n",
       "267                                         5.5 inches                                                     \n",
       "268                                         5.5 inches                                                     \n",
       "\n",
       "    10 What is the operating system (OS) of your device?\\t\\t\\t\\t                                            \\\n",
       "0                                Window/windows Mobile                                                       \n",
       "1                                              IOS/Mac                                                       \n",
       "2                                              Android                                                       \n",
       "3                                              IOS/Mac                                                       \n",
       "4                                              IOS/Mac                                                       \n",
       "..                                                 ...                                                       \n",
       "264                                            Android                                                       \n",
       "265                                            Android                                                       \n",
       "266                              Window/windows Mobile                                                       \n",
       "267                                            Android                                                       \n",
       "268                                            Android                                                       \n",
       "\n",
       "     ... Longer time to get logged in (promotion, sales period)  \\\n",
       "0    ...                                          Amazon.in       \n",
       "1    ...                            Amazon.in, Flipkart.com       \n",
       "2    ...                                         Myntra.com       \n",
       "3    ...                                       Snapdeal.com       \n",
       "4    ...                            Flipkart.com, Paytm.com       \n",
       "..   ...                                                ...       \n",
       "264  ...                                          Amazon.in       \n",
       "265  ...                                       Flipkart.com       \n",
       "266  ...                                          Amazon.in       \n",
       "267  ...                                          Amazon.in       \n",
       "268  ...                                          Amazon.in       \n",
       "\n",
       "    Longer time in displaying graphics and photos (promotion, sales period)  \\\n",
       "0                                            Amazon.in                        \n",
       "1                                           Myntra.com                        \n",
       "2                                           Myntra.com                        \n",
       "3                             Myntra.com, Snapdeal.com                        \n",
       "4                                            Paytm.com                        \n",
       "..                                                 ...                        \n",
       "264                                          Amazon.in                        \n",
       "265                                       Flipkart.com                        \n",
       "266                                       Snapdeal.com                        \n",
       "267                Amazon.in, Myntra.com, Snapdeal.com                        \n",
       "268                                          Amazon.in                        \n",
       "\n",
       "    Late declaration of price (promotion, sales period)  \\\n",
       "0                                         Flipkart.com    \n",
       "1                                         snapdeal.com    \n",
       "2                                           Myntra.com    \n",
       "3                                           Myntra.com    \n",
       "4                                            Paytm.com    \n",
       "..                                                 ...    \n",
       "264                                          Amazon.in    \n",
       "265                                       Flipkart.com    \n",
       "266                                          Amazon.in    \n",
       "267                                          Amazon.in    \n",
       "268                                          Amazon.in    \n",
       "\n",
       "    Longer page loading time (promotion, sales period)  \\\n",
       "0                                         Flipkart.com   \n",
       "1                                         Snapdeal.com   \n",
       "2                                           Myntra.com   \n",
       "3                                            Paytm.com   \n",
       "4                                            Paytm.com   \n",
       "..                                                 ...   \n",
       "264                                          Amazon.in   \n",
       "265                                       Flipkart.com   \n",
       "266                                       Snapdeal.com   \n",
       "267                            Amazon.in, Snapdeal.com   \n",
       "268                                          Amazon.in   \n",
       "\n",
       "    Limited mode of payment on most products (promotion, sales period)  \\\n",
       "0                                            Amazon.in                   \n",
       "1                                         Snapdeal.com                   \n",
       "2                                            Amazon.in                   \n",
       "3                                            Paytm.com                   \n",
       "4                                         Snapdeal.com                   \n",
       "..                                                 ...                   \n",
       "264                                          Amazon.in                   \n",
       "265                                       Flipkart.com                   \n",
       "266                                       Snapdeal.com                   \n",
       "267                                          Amazon.in                   \n",
       "268                                          Amazon.in                   \n",
       "\n",
       "    Longer delivery period Change in website/Application design  \\\n",
       "0                Paytm.com                         Flipkart.com   \n",
       "1             Snapdeal.com                            Amazon.in   \n",
       "2                Paytm.com                            Paytm.com   \n",
       "3                Paytm.com              Amazon.in, Flipkart.com   \n",
       "4                Paytm.com                            Amazon.in   \n",
       "..                     ...                                  ...   \n",
       "264              Amazon.in                            Amazon.in   \n",
       "265           Flipkart.com                         Flipkart.com   \n",
       "266           Snapdeal.com                         Snapdeal.com   \n",
       "267              Amazon.in                            Amazon.in   \n",
       "268              Amazon.in                            Amazon.in   \n",
       "\n",
       "    Frequent disruption when moving from one page to another  \\\n",
       "0                                            Amazon.in         \n",
       "1                                           Myntra.com         \n",
       "2                                            Paytm.com         \n",
       "3                              Amazon.in, Flipkart.com         \n",
       "4                                         Snapdeal.com         \n",
       "..                                                 ...         \n",
       "264                                          Amazon.in         \n",
       "265                                       Flipkart.com         \n",
       "266                                       Snapdeal.com         \n",
       "267                           Myntra.com, Snapdeal.com         \n",
       "268                                          Amazon.in         \n",
       "\n",
       "      Website is as efficient as before  \\\n",
       "0                             Amazon.in   \n",
       "1               Amazon.in, Flipkart.com   \n",
       "2                             Amazon.in   \n",
       "3    Amazon.in, Flipkart.com, Paytm.com   \n",
       "4                             Paytm.com   \n",
       "..                                  ...   \n",
       "264                           Amazon.in   \n",
       "265                        Flipkart.com   \n",
       "266                           Amazon.in   \n",
       "267            Myntra.com, Snapdeal.com   \n",
       "268                           Amazon.in   \n",
       "\n",
       "    Which of the Indian online retailer would you recommend to a friend?  \n",
       "0                                         Flipkart.com                    \n",
       "1                                Amazon.in, Myntra.com                    \n",
       "2                     Amazon.in, Paytm.com, Myntra.com                    \n",
       "3                              Amazon.in, Flipkart.com                    \n",
       "4                                Amazon.in, Myntra.com                    \n",
       "..                                                 ...                    \n",
       "264                                          Amazon.in                    \n",
       "265                                       Flipkart.com                    \n",
       "266                                          Amazon.in                    \n",
       "267                                          Amazon.in                    \n",
       "268                                          Amazon.in                    \n",
       "\n",
       "[269 rows x 71 columns]"
      ]
     },
     "execution_count": 4,
     "metadata": {},
     "output_type": "execute_result"
    }
   ],
   "source": [
    "# Loading the dataset\n",
    "df=pd.read_excel(\"customer_retention_dataset.xlsx\")\n",
    "df"
   ]
  },
  {
   "cell_type": "code",
   "execution_count": 5,
   "metadata": {},
   "outputs": [
    {
     "data": {
      "text/plain": [
       "(269, 71)"
      ]
     },
     "execution_count": 5,
     "metadata": {},
     "output_type": "execute_result"
    }
   ],
   "source": [
    "#checking the shape\n",
    "df.shape"
   ]
  },
  {
   "cell_type": "code",
   "execution_count": 6,
   "metadata": {},
   "outputs": [
    {
     "data": {
      "text/plain": [
       "Index(['1Gender of respondent', '2 How old are you? ',\n",
       "       '3 Which city do you shop online from?',\n",
       "       '4 What is the Pin Code of where you shop online from?',\n",
       "       '5 Since How Long You are Shopping Online ?',\n",
       "       '6 How many times you have made an online purchase in the past 1 year?',\n",
       "       '7 How do you access the internet while shopping on-line?',\n",
       "       '8 Which device do you use to access the online shopping?',\n",
       "       '9 What is the screen size of your mobile device?\\t\\t\\t\\t\\t\\t                                        ',\n",
       "       '10 What is the operating system (OS) of your device?\\t\\t\\t\\t                                          ',\n",
       "       '11 What browser do you run on your device to access the website?\\t\\t\\t                                                          ',\n",
       "       '12 Which channel did you follow to arrive at your favorite online store for the first time?                                                                   ',\n",
       "       '13 After first visit, how do you reach the online retail store?\\t\\t\\t\\t                                                   ',\n",
       "       '14 How much time do you explore the e- retail store before making a purchase decision?                                                                   ',\n",
       "       '15 What is your preferred payment Option?\\t\\t\\t\\t\\t                                                                                                                               ',\n",
       "       '16 How frequently do you abandon (selecting an items and leaving without making payment) your shopping cart?\\t\\t\\t\\t\\t\\t\\t                                                   ',\n",
       "       '17 Why did you abandon the “Bag”, “Shopping Cart”?\\t\\t\\t\\t\\t                                                                                                                                                       ',\n",
       "       '18 The content on the website must be easy to read and understand',\n",
       "       '19 Information on similar product to the one highlighted  is important for product comparison',\n",
       "       '20 Complete information on listed seller and product being offered is important for purchase decision.',\n",
       "       '21 All relevant information on listed products must be stated clearly',\n",
       "       '22 Ease of navigation in website', '23 Loading and processing speed',\n",
       "       '24 User friendly Interface of the website',\n",
       "       '25 Convenient Payment methods',\n",
       "       '26 Trust that the online retail store will fulfill its part of the transaction at the stipulated time',\n",
       "       '27 Empathy (readiness to assist with queries) towards the customers',\n",
       "       '28 Being able to guarantee the privacy of the customer',\n",
       "       '29 Responsiveness, availability of several communication channels (email, online rep, twitter, phone etc.)',\n",
       "       '30 Online shopping gives monetary benefit and discounts',\n",
       "       '31 Enjoyment is derived from shopping online',\n",
       "       '32 Shopping online is convenient and flexible',\n",
       "       '33 Return and replacement policy of the e-tailer is important for purchase decision',\n",
       "       '34 Gaining access to loyalty programs is a benefit of shopping online',\n",
       "       '35 Displaying quality Information on the website improves satisfaction of customers',\n",
       "       '36 User derive satisfaction while shopping on a good quality website or application',\n",
       "       '37 Net Benefit derived from shopping online can lead to users satisfaction',\n",
       "       '38 User satisfaction cannot exist without trust',\n",
       "       '39 Offering a wide variety of listed product in several category',\n",
       "       '40 Provision of complete and relevant product information',\n",
       "       '41 Monetary savings',\n",
       "       '42 The Convenience of patronizing the online retailer',\n",
       "       '43 Shopping on the website gives you the sense of adventure',\n",
       "       '44 Shopping on your preferred e-tailer enhances your social status',\n",
       "       '45 You feel gratification shopping on your favorite e-tailer',\n",
       "       '46 Shopping on the website helps you fulfill certain roles',\n",
       "       '47 Getting value for money spent',\n",
       "       'From the following, tick any (or all) of the online retailers you have shopped from;                                                                           ',\n",
       "       'Easy to use website or application',\n",
       "       'Visual appealing web-page layout', 'Wild variety of product on offer',\n",
       "       'Complete, relevant description information of products',\n",
       "       'Fast loading website speed of website and application',\n",
       "       'Reliability of the website or application',\n",
       "       'Quickness to complete purchase',\n",
       "       'Availability of several payment options', 'Speedy order delivery ',\n",
       "       'Privacy of customers’ information',\n",
       "       'Security of customer financial information',\n",
       "       'Perceived Trustworthiness',\n",
       "       'Presence of online assistance through multi-channel',\n",
       "       'Longer time to get logged in (promotion, sales period)',\n",
       "       'Longer time in displaying graphics and photos (promotion, sales period)',\n",
       "       'Late declaration of price (promotion, sales period)',\n",
       "       'Longer page loading time (promotion, sales period)',\n",
       "       'Limited mode of payment on most products (promotion, sales period)',\n",
       "       'Longer delivery period', 'Change in website/Application design',\n",
       "       'Frequent disruption when moving from one page to another',\n",
       "       'Website is as efficient as before',\n",
       "       'Which of the Indian online retailer would you recommend to a friend?'],\n",
       "      dtype='object')"
      ]
     },
     "execution_count": 6,
     "metadata": {},
     "output_type": "execute_result"
    }
   ],
   "source": [
    "#checking columns\n",
    "df.columns"
   ]
  },
  {
   "cell_type": "code",
   "execution_count": 7,
   "metadata": {
    "scrolled": true
   },
   "outputs": [
    {
     "data": {
      "text/plain": [
       "1Gender of respondent                                                   object\n",
       "2 How old are you?                                                      object\n",
       "3 Which city do you shop online from?                                   object\n",
       "4 What is the Pin Code of where you shop online from?                    int64\n",
       "5 Since How Long You are Shopping Online ?                              object\n",
       "                                                                         ...  \n",
       "Longer delivery period                                                  object\n",
       "Change in website/Application design                                    object\n",
       "Frequent disruption when moving from one page to another                object\n",
       "Website is as efficient as before                                       object\n",
       "Which of the Indian online retailer would you recommend to a friend?    object\n",
       "Length: 71, dtype: object"
      ]
     },
     "execution_count": 7,
     "metadata": {},
     "output_type": "execute_result"
    }
   ],
   "source": [
    "#checking data types of columns\n",
    "df.dtypes"
   ]
  },
  {
   "cell_type": "code",
   "execution_count": 8,
   "metadata": {
    "scrolled": false
   },
   "outputs": [
    {
     "name": "stdout",
     "output_type": "stream",
     "text": [
      "<class 'pandas.core.frame.DataFrame'>\n",
      "RangeIndex: 269 entries, 0 to 268\n",
      "Data columns (total 71 columns):\n",
      " #   Column                                                                                                                                                                                                          Non-Null Count  Dtype \n",
      "---  ------                                                                                                                                                                                                          --------------  ----- \n",
      " 0   1Gender of respondent                                                                                                                                                                                           269 non-null    object\n",
      " 1   2 How old are you?                                                                                                                                                                                              269 non-null    object\n",
      " 2   3 Which city do you shop online from?                                                                                                                                                                           269 non-null    object\n",
      " 3   4 What is the Pin Code of where you shop online from?                                                                                                                                                           269 non-null    int64 \n",
      " 4   5 Since How Long You are Shopping Online ?                                                                                                                                                                      269 non-null    object\n",
      " 5   6 How many times you have made an online purchase in the past 1 year?                                                                                                                                           269 non-null    object\n",
      " 6   7 How do you access the internet while shopping on-line?                                                                                                                                                        269 non-null    object\n",
      " 7   8 Which device do you use to access the online shopping?                                                                                                                                                        269 non-null    object\n",
      " 8   9 What is the screen size of your mobile device?\t\t\t\t\t\t                                                                                                                                                          269 non-null    object\n",
      " 9   10 What is the operating system (OS) of your device?\t\t\t\t                                                                                                                                                        269 non-null    object\n",
      " 10  11 What browser do you run on your device to access the website?\t\t\t                                                                                                                                             269 non-null    object\n",
      " 11  12 Which channel did you follow to arrive at your favorite online store for the first time?                                                                                                                     269 non-null    object\n",
      " 12  13 After first visit, how do you reach the online retail store?\t\t\t\t                                                                                                                                             269 non-null    object\n",
      " 13  14 How much time do you explore the e- retail store before making a purchase decision?                                                                                                                          269 non-null    object\n",
      " 14  15 What is your preferred payment Option?\t\t\t\t\t                                                                                                                                                                  269 non-null    object\n",
      " 15  16 How frequently do you abandon (selecting an items and leaving without making payment) your shopping cart?\t\t\t\t\t\t\t                                                                                             269 non-null    object\n",
      " 16  17 Why did you abandon the “Bag”, “Shopping Cart”?\t\t\t\t\t                                                                                                                                                         269 non-null    object\n",
      " 17  18 The content on the website must be easy to read and understand                                                                                                                                               269 non-null    object\n",
      " 18  19 Information on similar product to the one highlighted  is important for product comparison                                                                                                                   269 non-null    object\n",
      " 19  20 Complete information on listed seller and product being offered is important for purchase decision.                                                                                                          269 non-null    object\n",
      " 20  21 All relevant information on listed products must be stated clearly                                                                                                                                           269 non-null    object\n",
      " 21  22 Ease of navigation in website                                                                                                                                                                                269 non-null    object\n",
      " 22  23 Loading and processing speed                                                                                                                                                                                 269 non-null    object\n",
      " 23  24 User friendly Interface of the website                                                                                                                                                                       269 non-null    object\n",
      " 24  25 Convenient Payment methods                                                                                                                                                                                   269 non-null    object\n",
      " 25  26 Trust that the online retail store will fulfill its part of the transaction at the stipulated time                                                                                                           269 non-null    object\n",
      " 26  27 Empathy (readiness to assist with queries) towards the customers                                                                                                                                             269 non-null    object\n",
      " 27  28 Being able to guarantee the privacy of the customer                                                                                                                                                          269 non-null    object\n",
      " 28  29 Responsiveness, availability of several communication channels (email, online rep, twitter, phone etc.)                                                                                                      269 non-null    object\n",
      " 29  30 Online shopping gives monetary benefit and discounts                                                                                                                                                         269 non-null    object\n",
      " 30  31 Enjoyment is derived from shopping online                                                                                                                                                                    269 non-null    object\n",
      " 31  32 Shopping online is convenient and flexible                                                                                                                                                                   269 non-null    object\n",
      " 32  33 Return and replacement policy of the e-tailer is important for purchase decision                                                                                                                             269 non-null    object\n",
      " 33  34 Gaining access to loyalty programs is a benefit of shopping online                                                                                                                                           269 non-null    object\n",
      " 34  35 Displaying quality Information on the website improves satisfaction of customers                                                                                                                             269 non-null    object\n",
      " 35  36 User derive satisfaction while shopping on a good quality website or application                                                                                                                             269 non-null    object\n",
      " 36  37 Net Benefit derived from shopping online can lead to users satisfaction                                                                                                                                      269 non-null    object\n",
      " 37  38 User satisfaction cannot exist without trust                                                                                                                                                                 269 non-null    object\n",
      " 38  39 Offering a wide variety of listed product in several category                                                                                                                                                269 non-null    object\n",
      " 39  40 Provision of complete and relevant product information                                                                                                                                                       269 non-null    object\n",
      " 40  41 Monetary savings                                                                                                                                                                                             269 non-null    object\n",
      " 41  42 The Convenience of patronizing the online retailer                                                                                                                                                           269 non-null    object\n",
      " 42  43 Shopping on the website gives you the sense of adventure                                                                                                                                                     269 non-null    object\n",
      " 43  44 Shopping on your preferred e-tailer enhances your social status                                                                                                                                              269 non-null    object\n",
      " 44  45 You feel gratification shopping on your favorite e-tailer                                                                                                                                                    269 non-null    object\n",
      " 45  46 Shopping on the website helps you fulfill certain roles                                                                                                                                                      269 non-null    object\n",
      " 46  47 Getting value for money spent                                                                                                                                                                                269 non-null    object\n",
      " 47  From the following, tick any (or all) of the online retailers you have shopped from;                                                                                                                            269 non-null    object\n",
      " 48  Easy to use website or application                                                                                                                                                                              269 non-null    object\n",
      " 49  Visual appealing web-page layout                                                                                                                                                                                269 non-null    object\n",
      " 50  Wild variety of product on offer                                                                                                                                                                                269 non-null    object\n",
      " 51  Complete, relevant description information of products                                                                                                                                                          269 non-null    object\n",
      " 52  Fast loading website speed of website and application                                                                                                                                                           269 non-null    object\n",
      " 53  Reliability of the website or application                                                                                                                                                                       269 non-null    object\n",
      " 54  Quickness to complete purchase                                                                                                                                                                                  269 non-null    object\n",
      " 55  Availability of several payment options                                                                                                                                                                         269 non-null    object\n",
      " 56  Speedy order delivery                                                                                                                                                                                           269 non-null    object\n",
      " 57  Privacy of customers’ information                                                                                                                                                                               269 non-null    object\n",
      " 58  Security of customer financial information                                                                                                                                                                      269 non-null    object\n",
      " 59  Perceived Trustworthiness                                                                                                                                                                                       269 non-null    object\n",
      " 60  Presence of online assistance through multi-channel                                                                                                                                                             269 non-null    object\n",
      " 61  Longer time to get logged in (promotion, sales period)                                                                                                                                                          269 non-null    object\n",
      " 62  Longer time in displaying graphics and photos (promotion, sales period)                                                                                                                                         269 non-null    object\n",
      " 63  Late declaration of price (promotion, sales period)                                                                                                                                                             269 non-null    object\n",
      " 64  Longer page loading time (promotion, sales period)                                                                                                                                                              269 non-null    object\n",
      " 65  Limited mode of payment on most products (promotion, sales period)                                                                                                                                              269 non-null    object\n",
      " 66  Longer delivery period                                                                                                                                                                                          269 non-null    object\n",
      " 67  Change in website/Application design                                                                                                                                                                            269 non-null    object\n",
      " 68  Frequent disruption when moving from one page to another                                                                                                                                                        269 non-null    object\n",
      " 69  Website is as efficient as before                                                                                                                                                                               269 non-null    object\n",
      " 70  Which of the Indian online retailer would you recommend to a friend?                                                                                                                                            269 non-null    object\n",
      "dtypes: int64(1), object(70)\n",
      "memory usage: 149.3+ KB\n"
     ]
    }
   ],
   "source": [
    "#checking the information of columns\n",
    "df.info()"
   ]
  },
  {
   "cell_type": "markdown",
   "metadata": {},
   "source": [
    "# Exploring categorical columns"
   ]
  },
  {
   "cell_type": "code",
   "execution_count": 9,
   "metadata": {
    "scrolled": false
   },
   "outputs": [
    {
     "name": "stdout",
     "output_type": "stream",
     "text": [
      "1Gender of respondent : ['Male' 'Female']\n",
      "Female    181\n",
      "Male       88\n",
      "Name: 1Gender of respondent, dtype: int64\n",
      "*******************************************************************************************************\n",
      "\n",
      "\n",
      "2 How old are you?  : ['31-40 years' '21-30 years' '41-50 yaers' 'Less than 20 years'\n",
      " '51 years and above']\n",
      "31-40 years           81\n",
      "21-30 years           79\n",
      "41-50 yaers           70\n",
      "Less than 20 years    20\n",
      "51 years and above    19\n",
      "Name: 2 How old are you? , dtype: int64\n",
      "*******************************************************************************************************\n",
      "\n",
      "\n",
      "3 Which city do you shop online from? : ['Delhi' 'Greater Noida' 'Karnal ' 'Bangalore ' 'Noida' 'Solan'\n",
      " 'Moradabad' 'Gurgaon ' 'Merrut' 'Ghaziabad' 'Bulandshahr']\n",
      "Delhi            58\n",
      "Greater Noida    43\n",
      "Noida            40\n",
      "Bangalore        37\n",
      "Karnal           27\n",
      "Solan            18\n",
      "Ghaziabad        18\n",
      "Gurgaon          12\n",
      "Merrut            9\n",
      "Moradabad         5\n",
      "Bulandshahr       2\n",
      "Name: 3 Which city do you shop online from?, dtype: int64\n",
      "*******************************************************************************************************\n",
      "\n",
      "\n",
      "5 Since How Long You are Shopping Online ? : ['Above 4 years' '3-4 years' '2-3 years' 'Less than 1 year' '1-2 years']\n",
      "Above 4 years       98\n",
      "2-3 years           65\n",
      "3-4 years           47\n",
      "Less than 1 year    43\n",
      "1-2 years           16\n",
      "Name: 5 Since How Long You are Shopping Online ?, dtype: int64\n",
      "*******************************************************************************************************\n",
      "\n",
      "\n",
      "6 How many times you have made an online purchase in the past 1 year? : ['31-40 times' '41 times and above' 'Less than 10 times' '11-20 times'\n",
      " '21-30 times' '42 times and above']\n",
      "Less than 10 times    114\n",
      "31-40 times            63\n",
      "41 times and above     47\n",
      "11-20 times            29\n",
      "21-30 times            10\n",
      "42 times and above      6\n",
      "Name: 6 How many times you have made an online purchase in the past 1 year?, dtype: int64\n",
      "*******************************************************************************************************\n",
      "\n",
      "\n",
      "7 How do you access the internet while shopping on-line? : ['Dial-up' 'Wi-Fi' 'Mobile Internet' 'Mobile internet']\n",
      "Mobile internet    142\n",
      "Wi-Fi               76\n",
      "Mobile Internet     47\n",
      "Dial-up              4\n",
      "Name: 7 How do you access the internet while shopping on-line?, dtype: int64\n",
      "*******************************************************************************************************\n",
      "\n",
      "\n",
      "8 Which device do you use to access the online shopping? : ['Desktop' 'Smartphone' 'Tablet' 'Laptop']\n",
      "Smartphone    141\n",
      "Laptop         86\n",
      "Desktop        30\n",
      "Tablet         12\n",
      "Name: 8 Which device do you use to access the online shopping?, dtype: int64\n",
      "*******************************************************************************************************\n",
      "\n",
      "\n",
      "9 What is the screen size of your mobile device?\t\t\t\t\t\t                                         : ['Others' '4.7 inches' '5.5 inches' '5 inches']\n",
      "Others        134\n",
      "5.5 inches     99\n",
      "4.7 inches     29\n",
      "5 inches        7\n",
      "Name: 9 What is the screen size of your mobile device?\\t\\t\\t\\t\\t\\t                                        , dtype: int64\n",
      "*******************************************************************************************************\n",
      "\n",
      "\n",
      "10 What is the operating system (OS) of your device?\t\t\t\t                                           : ['Window/windows Mobile' 'IOS/Mac' 'Android']\n",
      "Window/windows Mobile    122\n",
      "Android                   85\n",
      "IOS/Mac                   62\n",
      "Name: 10 What is the operating system (OS) of your device?\\t\\t\\t\\t                                          , dtype: int64\n",
      "*******************************************************************************************************\n",
      "\n",
      "\n",
      "11 What browser do you run on your device to access the website?\t\t\t                                                           : ['Google chrome' 'Safari' 'Opera' 'Mozilla Firefox']\n",
      "Google chrome      216\n",
      "Safari              40\n",
      "Opera                8\n",
      "Mozilla Firefox      5\n",
      "Name: 11 What browser do you run on your device to access the website?\\t\\t\\t                                                          , dtype: int64\n",
      "*******************************************************************************************************\n",
      "\n",
      "\n",
      "12 Which channel did you follow to arrive at your favorite online store for the first time?                                                                    : ['Search Engine' 'Content Marketing' 'Display Adverts']\n",
      "Search Engine        230\n",
      "Content Marketing     20\n",
      "Display Adverts       19\n",
      "Name: 12 Which channel did you follow to arrive at your favorite online store for the first time?                                                                   , dtype: int64\n",
      "*******************************************************************************************************\n",
      "\n",
      "\n",
      "13 After first visit, how do you reach the online retail store?\t\t\t\t                                                    : ['Search Engine' 'Via application' 'Direct URL' 'E-mail' 'Social Media']\n",
      "Search Engine      87\n",
      "Via application    86\n",
      "Direct URL         70\n",
      "E-mail             18\n",
      "Social Media        8\n",
      "Name: 13 After first visit, how do you reach the online retail store?\\t\\t\\t\\t                                                   , dtype: int64\n",
      "*******************************************************************************************************\n",
      "\n",
      "\n",
      "14 How much time do you explore the e- retail store before making a purchase decision?                                                                    : ['6-10 mins' 'more than 15 mins' '11-15 mins' '1-5 mins' 'Less than 1 min']\n",
      "more than 15 mins    123\n",
      "6-10 mins             71\n",
      "11-15 mins            46\n",
      "Less than 1 min       15\n",
      "1-5 mins              14\n",
      "Name: 14 How much time do you explore the e- retail store before making a purchase decision?                                                                   , dtype: int64\n",
      "*******************************************************************************************************\n",
      "\n",
      "\n",
      "15 What is your preferred payment Option?\t\t\t\t\t                                                                                                                                : ['E-wallets (Paytm, Freecharge etc.)' 'Credit/Debit cards'\n",
      " 'Cash on delivery (CoD)']\n",
      "Credit/Debit cards                    148\n",
      "Cash on delivery (CoD)                 76\n",
      "E-wallets (Paytm, Freecharge etc.)     45\n",
      "Name: 15 What is your preferred payment Option?\\t\\t\\t\\t\\t                                                                                                                               , dtype: int64\n",
      "*******************************************************************************************************\n",
      "\n",
      "\n",
      "16 How frequently do you abandon (selecting an items and leaving without making payment) your shopping cart?\t\t\t\t\t\t\t                                                    : ['Sometimes' 'Very frequently' 'Never' 'Frequently']\n",
      "Sometimes          171\n",
      "Never               48\n",
      "Frequently          35\n",
      "Very frequently     15\n",
      "Name: 16 How frequently do you abandon (selecting an items and leaving without making payment) your shopping cart?\\t\\t\\t\\t\\t\\t\\t                                                   , dtype: int64\n",
      "*******************************************************************************************************\n",
      "\n",
      "\n",
      "17 Why did you abandon the “Bag”, “Shopping Cart”?\t\t\t\t\t                                                                                                                                                        : ['Lack of trust' 'Promo code not applicable' 'Better alternative offer'\n",
      " 'Change in price' 'No preferred mode of payment']\n",
      "Better alternative offer        133\n",
      "Promo code not applicable        54\n",
      "Change in price                  37\n",
      "Lack of trust                    31\n",
      "No preferred mode of payment     14\n",
      "Name: 17 Why did you abandon the “Bag”, “Shopping Cart”?\\t\\t\\t\\t\\t                                                                                                                                                       , dtype: int64\n",
      "*******************************************************************************************************\n",
      "\n",
      "\n",
      "18 The content on the website must be easy to read and understand : ['Agree (4)' 'Strongly agree (5)' 'Strongly disagree (1)'\n",
      " 'Indifferent (3)']\n",
      "Strongly agree (5)       164\n",
      "Agree (4)                 80\n",
      "Strongly disagree (1)     18\n",
      "Indifferent (3)            7\n",
      "Name: 18 The content on the website must be easy to read and understand, dtype: int64\n",
      "*******************************************************************************************************\n",
      "\n",
      "\n",
      "19 Information on similar product to the one highlighted  is important for product comparison : ['Indifferent (3)' 'Strongly agree (5)' 'Agree (4)' 'Dis-agree (2)']\n",
      "Strongly agree (5)    116\n",
      "Agree (4)              92\n",
      "Indifferent (3)        43\n",
      "Dis-agree (2)          18\n",
      "Name: 19 Information on similar product to the one highlighted  is important for product comparison, dtype: int64\n",
      "*******************************************************************************************************\n",
      "\n",
      "\n",
      "20 Complete information on listed seller and product being offered is important for purchase decision. : ['Indifferent (3)' 'Strongly agree (5)' 'Agree (4)' 'Dis-agree (2)'\n",
      " 'Strongly disagree (1)']\n",
      "Agree (4)                101\n",
      "Strongly agree (5)        87\n",
      "Indifferent (3)           52\n",
      "Dis-agree (2)             18\n",
      "Strongly disagree (1)     11\n",
      "Name: 20 Complete information on listed seller and product being offered is important for purchase decision., dtype: int64\n",
      "*******************************************************************************************************\n",
      "\n",
      "\n",
      "21 All relevant information on listed products must be stated clearly : ['Agree (4)' 'Strongly agree (5)' 'Strongly disagree (1)' 'Dis-agree (2)']\n",
      "Agree (4)                132\n",
      "Strongly agree (5)       107\n",
      "Strongly disagree (1)     18\n",
      "Dis-agree (2)             12\n",
      "Name: 21 All relevant information on listed products must be stated clearly, dtype: int64\n",
      "*******************************************************************************************************\n",
      "\n",
      "\n",
      "22 Ease of navigation in website : ['Agree (4)' 'Strongly agree (5)' 'Strongly disagree (1)' 'Dis-agree (2)']\n",
      "Strongly agree (5)       141\n",
      "Agree (4)                105\n",
      "Strongly disagree (1)     18\n",
      "Dis-agree (2)              5\n",
      "Name: 22 Ease of navigation in website, dtype: int64\n",
      "*******************************************************************************************************\n",
      "\n",
      "\n",
      "23 Loading and processing speed : ['Strongly disagree (1)' 'Strongly agree (5)' 'Agree (4)' 'Dis-agree (2)'\n",
      " 'Indifferent (3)']\n",
      "Strongly agree (5)       115\n",
      "Agree (4)                112\n",
      "Dis-agree (2)             18\n",
      "Strongly disagree (1)     12\n",
      "Indifferent (3)           12\n",
      "Name: 23 Loading and processing speed, dtype: int64\n",
      "*******************************************************************************************************\n",
      "\n",
      "\n",
      "24 User friendly Interface of the website : ['Dis-agree (2)' 'Strongly agree (5)' 'Agree (4)' 'Strongly disagree (1)'\n",
      " 'Indifferent (3)']\n",
      "Strongly agree (5)       189\n",
      "Agree (4)                 45\n",
      "Strongly disagree (1)     18\n",
      "Dis-agree (2)             12\n",
      "Indifferent (3)            5\n",
      "Name: 24 User friendly Interface of the website, dtype: int64\n",
      "*******************************************************************************************************\n",
      "\n",
      "\n",
      "25 Convenient Payment methods : ['Dis-agree (2)' 'Strongly agree (5)' 'Agree (4)']\n",
      "Strongly agree (5)    159\n",
      "Agree (4)              80\n",
      "Dis-agree (2)          30\n",
      "Name: 25 Convenient Payment methods, dtype: int64\n",
      "*******************************************************************************************************\n",
      "\n",
      "\n",
      "26 Trust that the online retail store will fulfill its part of the transaction at the stipulated time : ['Disagree (2)' 'Strongly agree (5)' 'Agree (4)' 'indifferent  (3)']\n",
      "Strongly agree (5)    141\n",
      "Agree (4)              86\n",
      "Disagree (2)           30\n",
      "indifferent  (3)       12\n",
      "Name: 26 Trust that the online retail store will fulfill its part of the transaction at the stipulated time, dtype: int64\n",
      "*******************************************************************************************************\n",
      "\n",
      "\n",
      "27 Empathy (readiness to assist with queries) towards the customers : ['Strongly agree (5)' 'Agree (4)' 'Strongly disagree (1)'\n",
      " 'indifferent (3)']\n",
      "Strongly agree (5)       194\n",
      "Agree (4)                 42\n",
      "Strongly disagree (1)     18\n",
      "indifferent (3)           15\n",
      "Name: 27 Empathy (readiness to assist with queries) towards the customers, dtype: int64\n",
      "*******************************************************************************************************\n",
      "\n",
      "\n",
      "28 Being able to guarantee the privacy of the customer : ['Agree (4)' 'Strongly agree (5)' 'indifferent (3)']\n",
      "Strongly agree (5)    185\n",
      "Agree (4)              58\n",
      "indifferent (3)        26\n",
      "Name: 28 Being able to guarantee the privacy of the customer, dtype: int64\n",
      "*******************************************************************************************************\n",
      "\n",
      "\n",
      "29 Responsiveness, availability of several communication channels (email, online rep, twitter, phone etc.) : ['Agree (4)' 'Strongly agree (5)' 'indifferent (3)'\n",
      " 'Strongly disagree (1)']\n",
      "Strongly agree (5)       149\n",
      "Agree (4)                 94\n",
      "indifferent (3)           15\n",
      "Strongly disagree (1)     11\n",
      "Name: 29 Responsiveness, availability of several communication channels (email, online rep, twitter, phone etc.), dtype: int64\n",
      "*******************************************************************************************************\n",
      "\n",
      "\n",
      "30 Online shopping gives monetary benefit and discounts : ['indifferent (3)' 'Strongly agree (5)' 'Agree (4)'\n",
      " 'Strongly disagree (1)' 'Dis-agree (2)']\n",
      "Strongly agree (5)       105\n",
      "Agree (4)                 85\n",
      "indifferent (3)           50\n",
      "Strongly disagree (1)     18\n",
      "Dis-agree (2)             11\n",
      "Name: 30 Online shopping gives monetary benefit and discounts, dtype: int64\n",
      "*******************************************************************************************************\n",
      "\n",
      "\n",
      "31 Enjoyment is derived from shopping online : ['Strongly disagree (1)' 'Strongly agree (5)' 'indifferent (3)'\n",
      " 'Agree (4)' 'Dis-agree (2)']\n",
      "Strongly agree (5)       86\n",
      "indifferent (3)          75\n",
      "Agree (4)                59\n",
      "Strongly disagree (1)    30\n",
      "Dis-agree (2)            19\n",
      "Name: 31 Enjoyment is derived from shopping online, dtype: int64\n",
      "*******************************************************************************************************\n",
      "\n",
      "\n",
      "32 Shopping online is convenient and flexible : ['Dis-agree (2)' 'Strongly agree (5)' 'indifferent (3)' 'Agree (4)']\n",
      "Strongly agree (5)    146\n",
      "Agree (4)              78\n",
      "indifferent (3)        33\n",
      "Dis-agree (2)          12\n",
      "Name: 32 Shopping online is convenient and flexible, dtype: int64\n",
      "*******************************************************************************************************\n",
      "\n",
      "\n",
      "33 Return and replacement policy of the e-tailer is important for purchase decision : ['Dis-agree (2)' 'Strongly agree (5)' 'Agree (4)']\n",
      "Strongly agree (5)    198\n",
      "Agree (4)              51\n",
      "Dis-agree (2)          20\n",
      "Name: 33 Return and replacement policy of the e-tailer is important for purchase decision, dtype: int64\n",
      "*******************************************************************************************************\n",
      "\n",
      "\n",
      "34 Gaining access to loyalty programs is a benefit of shopping online : ['Agree (4)' 'Strongly agree (5)' 'indifferent (3)' 'Dis-agree (2)'\n",
      " 'Strongly disagree (1)']\n",
      "Strongly agree (5)       115\n",
      "indifferent (3)           64\n",
      "Agree (4)                 64\n",
      "Dis-agree (2)             15\n",
      "Strongly disagree (1)     11\n",
      "Name: 34 Gaining access to loyalty programs is a benefit of shopping online, dtype: int64\n",
      "*******************************************************************************************************\n",
      "\n",
      "\n",
      "35 Displaying quality Information on the website improves satisfaction of customers : ['indifferent (3)' 'Strongly agree (5)' 'Agree (4)']\n",
      "Strongly agree (5)    133\n",
      "Agree (4)              80\n",
      "indifferent (3)        56\n",
      "Name: 35 Displaying quality Information on the website improves satisfaction of customers, dtype: int64\n",
      "*******************************************************************************************************\n",
      "\n",
      "\n",
      "36 User derive satisfaction while shopping on a good quality website or application : ['Strongly agree (5)' 'Agree (4)' 'Dis-agree (2)']\n",
      "Strongly agree (5)    175\n",
      "Agree (4)              86\n",
      "Dis-agree (2)           8\n",
      "Name: 36 User derive satisfaction while shopping on a good quality website or application, dtype: int64\n",
      "*******************************************************************************************************\n",
      "\n",
      "\n",
      "37 Net Benefit derived from shopping online can lead to users satisfaction : ['Agree (4)' 'Strongly agree (5)' 'indifferent (3)' 'Dis-agree (2)']\n",
      "Strongly agree (5)    164\n",
      "Agree (4)              54\n",
      "indifferent (3)        40\n",
      "Dis-agree (2)          11\n",
      "Name: 37 Net Benefit derived from shopping online can lead to users satisfaction, dtype: int64\n",
      "*******************************************************************************************************\n",
      "\n",
      "\n",
      "38 User satisfaction cannot exist without trust : ['Strongly agree (5)' 'Agree (4)' 'Strongly disagree (1)' 'Dis-agree (2)'\n",
      " 'indifferent (3)']\n",
      "Strongly agree (5)       122\n",
      "Agree (4)                117\n",
      "Strongly disagree (1)     18\n",
      "Dis-agree (2)              7\n",
      "indifferent (3)            5\n",
      "Name: 38 User satisfaction cannot exist without trust, dtype: int64\n",
      "*******************************************************************************************************\n",
      "\n",
      "\n",
      "39 Offering a wide variety of listed product in several category : ['indifferent (3)' 'Strongly agree (5)' 'Agree (4)' 'Dis-agree (2)']\n",
      "Strongly agree (5)    111\n",
      "Agree (4)              94\n",
      "indifferent (3)        57\n",
      "Dis-agree (2)           7\n",
      "Name: 39 Offering a wide variety of listed product in several category, dtype: int64\n",
      "*******************************************************************************************************\n",
      "\n",
      "\n",
      "40 Provision of complete and relevant product information : ['indifferent (3)' 'Strongly agree (5)' 'Agree (4)' 'Disagree (2)']\n",
      "Strongly agree (5)    135\n",
      "Agree (4)              98\n",
      "indifferent (3)        31\n",
      "Disagree (2)            5\n",
      "Name: 40 Provision of complete and relevant product information, dtype: int64\n",
      "*******************************************************************************************************\n",
      "\n",
      "\n",
      "41 Monetary savings : ['Disagree (2)' 'Strongly agree (5)' 'Agree (4)' 'indifferent (3)']\n",
      "Strongly agree (5)    148\n",
      "Agree (4)              75\n",
      "Disagree (2)           31\n",
      "indifferent (3)        15\n",
      "Name: 41 Monetary savings, dtype: int64\n",
      "*******************************************************************************************************\n",
      "\n",
      "\n",
      "42 The Convenience of patronizing the online retailer : ['indifferent (3)' 'Agree (4)' 'Strongly agree (5)']\n",
      "Agree (4)             138\n",
      "indifferent (3)        77\n",
      "Strongly agree (5)     54\n",
      "Name: 42 The Convenience of patronizing the online retailer, dtype: int64\n",
      "*******************************************************************************************************\n",
      "\n",
      "\n",
      "43 Shopping on the website gives you the sense of adventure : ['Agree (4)' 'indifferent (3)' 'Strongly agree (5)' 'Dis-agree (2)'\n",
      " 'Strongly disagree (1)']\n",
      "Agree (4)                101\n",
      "indifferent (3)           59\n",
      "Strongly agree (5)        54\n",
      "Dis-agree (2)             50\n",
      "Strongly disagree (1)      5\n",
      "Name: 43 Shopping on the website gives you the sense of adventure, dtype: int64\n",
      "*******************************************************************************************************\n",
      "\n",
      "\n",
      "44 Shopping on your preferred e-tailer enhances your social status : ['Agree (4)' 'indifferent (3)' 'Strongly agree (5)'\n",
      " 'Strongly disagree (1)' 'Dis-agree (2)']\n",
      "indifferent (3)          100\n",
      "Agree (4)                 59\n",
      "Strongly agree (5)        48\n",
      "Strongly disagree (1)     33\n",
      "Dis-agree (2)             29\n",
      "Name: 44 Shopping on your preferred e-tailer enhances your social status, dtype: int64\n",
      "*******************************************************************************************************\n",
      "\n",
      "\n",
      "45 You feel gratification shopping on your favorite e-tailer : ['Strongly agree (5)' 'indifferent (3)' 'Agree (4)'\n",
      " 'Strongly disagree (1)' 'Disagree (2)']\n",
      "indifferent (3)          101\n",
      "Strongly agree (5)        65\n",
      "Agree (4)                 63\n",
      "Disagree (2)              22\n",
      "Strongly disagree (1)     18\n",
      "Name: 45 You feel gratification shopping on your favorite e-tailer, dtype: int64\n",
      "*******************************************************************************************************\n",
      "\n",
      "\n",
      "46 Shopping on the website helps you fulfill certain roles : ['Agree (4)' 'Strongly agree (5)' 'indifferent (3)'\n",
      " 'Strongly disagree (1)' 'Dis-agree (2)']\n",
      "indifferent (3)          88\n",
      "Agree (4)                88\n",
      "Strongly agree (5)       38\n",
      "Strongly disagree (1)    33\n",
      "Dis-agree (2)            22\n",
      "Name: 46 Shopping on the website helps you fulfill certain roles, dtype: int64\n",
      "*******************************************************************************************************\n",
      "\n",
      "\n",
      "47 Getting value for money spent : ['Strongly agree (5)' 'Agree (4)' 'indifferent (3)']\n",
      "Agree (4)             149\n",
      "Strongly agree (5)     82\n",
      "indifferent (3)        38\n",
      "Name: 47 Getting value for money spent, dtype: int64\n",
      "*******************************************************************************************************\n",
      "\n",
      "\n",
      "From the following, tick any (or all) of the online retailers you have shopped from;                                                                            : ['Amazon.in, Paytm.com'\n",
      " 'Amazon.in, Flipkart.com, Myntra.com, Snapdeal.com'\n",
      " 'Amazon.in, Paytm.com, Myntra.com'\n",
      " 'Amazon.in, Flipkart.com, Paytm.com, Myntra.com, Snapdeal.com'\n",
      " 'Amazon.in, Flipkart.com, Paytm.com, Snapdeal.com'\n",
      " 'Amazon.in, Flipkart.com' 'Amazon.in, Flipkart.com, Snapdeal.com'\n",
      " 'Amazon.in' 'Amazon.in, Flipkart.com, Paytm.com']\n",
      "Amazon.in, Flipkart.com, Paytm.com, Myntra.com, Snapdeal.com    82\n",
      "Amazon.in, Flipkart.com, Myntra.com, Snapdeal.com               44\n",
      "Amazon.in, Flipkart.com                                         32\n",
      "Amazon.in, Flipkart.com, Paytm.com, Snapdeal.com                29\n",
      "Amazon.in, Flipkart.com, Snapdeal.com                           27\n",
      "Amazon.in, Paytm.com, Myntra.com                                20\n",
      "Amazon.in                                                       16\n",
      "Amazon.in, Paytm.com                                            12\n",
      "Amazon.in, Flipkart.com, Paytm.com                               7\n",
      "Name: From the following, tick any (or all) of the online retailers you have shopped from;                                                                           , dtype: int64\n",
      "*******************************************************************************************************\n",
      "\n",
      "\n",
      "Easy to use website or application : ['Paytm.com' 'Amazon.in, Flipkart.com, Myntra.com, Snapdeal.com'\n",
      " 'Amazon.in, Paytm.com, Myntra.com'\n",
      " 'Amazon.in, Flipkart.com, Paytm.com, Myntra.com, Snapdeal.com'\n",
      " 'Amazon.in, Flipkart.com, Paytm.com, Snapdeal.com'\n",
      " 'Amazon.in, Flipkart.com' 'Amazon.in, Flipkart.com, Myntra.com'\n",
      " 'Amazon.in' 'Amazon.in, Paytm.com' 'Flipkart.com']\n",
      "Amazon.in, Flipkart.com, Paytm.com, Myntra.com, Snapdeal.com    64\n",
      "Amazon.in, Flipkart.com, Myntra.com, Snapdeal.com               44\n",
      "Amazon.in, Flipkart.com                                         44\n",
      "Amazon.in                                                       29\n",
      "Amazon.in, Flipkart.com, Paytm.com, Snapdeal.com                22\n",
      "Amazon.in, Paytm.com, Myntra.com                                20\n",
      "Amazon.in, Flipkart.com, Myntra.com                             19\n",
      "Paytm.com                                                       12\n",
      "Flipkart.com                                                     8\n",
      "Amazon.in, Paytm.com                                             7\n",
      "Name: Easy to use website or application, dtype: int64\n",
      "*******************************************************************************************************\n",
      "\n",
      "\n",
      "Visual appealing web-page layout : ['Flipkart.com' 'Amazon.in, Myntra.com' 'Amazon.in, Paytm.com, Myntra.com'\n",
      " 'Amazon.in, Flipkart.com, Paytm.com, Myntra.com, Snapdeal.com'\n",
      " 'Myntra.com' 'Amazon.in, Flipkart.com'\n",
      " 'Amazon.in, Flipkart.com, Myntra.com, Snapdeal.com'\n",
      " 'Amazon.in, Flipkart.com, Paytm.com, Snapdeal.com'\n",
      " 'Flipkart.com, Myntra.com' 'Amazon.in']\n",
      "Amazon.in, Flipkart.com                                         87\n",
      "Amazon.in                                                       44\n",
      "Amazon.in, Flipkart.com, Paytm.com, Myntra.com, Snapdeal.com    36\n",
      "Amazon.in, Paytm.com, Myntra.com                                20\n",
      "Flipkart.com, Myntra.com                                        15\n",
      "Myntra.com                                                      15\n",
      "Amazon.in, Myntra.com                                           15\n",
      "Amazon.in, Flipkart.com, Myntra.com, Snapdeal.com               14\n",
      "Flipkart.com                                                    12\n",
      "Amazon.in, Flipkart.com, Paytm.com, Snapdeal.com                11\n",
      "Name: Visual appealing web-page layout, dtype: int64\n",
      "*******************************************************************************************************\n",
      "\n",
      "\n",
      "Wild variety of product on offer : ['Flipkart.com' 'Flipkart.com, Myntra.com' 'Amazon.in, Myntra.com'\n",
      " 'Amazon.in, Flipkart.com' 'Myntra.com'\n",
      " 'Amazon.in, Flipkart.com, Paytm.com' 'Amazon.in'\n",
      " 'Amazon.in, Flipkart.com, Myntra.com, Snapdeal.com' 'Paytm.com']\n",
      "Amazon.in, Flipkart.com                              130\n",
      "Amazon.in                                             43\n",
      "Amazon.in, Myntra.com                                 20\n",
      "Flipkart.com, Myntra.com                              15\n",
      "Myntra.com                                            15\n",
      "Amazon.in, Flipkart.com, Myntra.com, Snapdeal.com     14\n",
      "Amazon.in, Flipkart.com, Paytm.com                    13\n",
      "Flipkart.com                                          12\n",
      "Paytm.com                                              7\n",
      "Name: Wild variety of product on offer, dtype: int64\n",
      "*******************************************************************************************************\n",
      "\n",
      "\n",
      "Complete, relevant description information of products : ['Snapdeal.com' 'Amazon.in, Flipkart.com, Myntra.com'\n",
      " 'Amazon.in, Paytm.com, Myntra.com' 'Amazon.in, Flipkart.com'\n",
      " 'Amazon.in, Flipkart.com, Paytm.com, Myntra.com, Snapdeal.com'\n",
      " 'Amazon.in, Flipkart.com, Paytm.com' 'Flipkart.com, Snapdeal.com'\n",
      " 'Amazon.in, Flipkart.com, Myntra.com, Snapdeal.com' 'Amazon.in'\n",
      " 'Amazon.in, Flipkart.com, Snapdeal.com' 'Flipkart.com']\n",
      "Amazon.in, Flipkart.com                                         100\n",
      "Amazon.in                                                        43\n",
      "Amazon.in, Flipkart.com, Paytm.com                               24\n",
      "Amazon.in, Paytm.com, Myntra.com                                 20\n",
      "Amazon.in, Flipkart.com, Myntra.com                              15\n",
      "Amazon.in, Flipkart.com, Paytm.com, Myntra.com, Snapdeal.com     15\n",
      "Amazon.in, Flipkart.com, Myntra.com, Snapdeal.com                14\n",
      "Snapdeal.com                                                     12\n",
      "Flipkart.com, Snapdeal.com                                       11\n",
      "Flipkart.com                                                      8\n",
      "Amazon.in, Flipkart.com, Snapdeal.com                             7\n",
      "Name: Complete, relevant description information of products, dtype: int64\n",
      "*******************************************************************************************************\n",
      "\n",
      "\n",
      "Fast loading website speed of website and application : ['Snapdeal.com' 'Amazon.in, Flipkart.com, Myntra.com'\n",
      " 'Amazon.in, Paytm.com' 'Amazon.in, Flipkart.com, Snapdeal.com'\n",
      " 'Amazon.in'\n",
      " 'Amazon.in, Flipkart.com, Paytm.com, Myntra.com, Snapdeal.com'\n",
      " 'Amazon.in, Flipkart.com, Paytm.com'\n",
      " 'Amazon.in, Flipkart.com, Myntra.com, Snapdeal.com'\n",
      " 'Amazon.in, Flipkart.com' 'Flipkart.com']\n",
      "Amazon.in                                                       51\n",
      "Amazon.in, Paytm.com                                            44\n",
      "Amazon.in, Flipkart.com, Myntra.com                             30\n",
      "Amazon.in, Flipkart.com, Paytm.com, Myntra.com, Snapdeal.com    30\n",
      "Amazon.in, Flipkart.com                                         30\n",
      "Amazon.in, Flipkart.com, Paytm.com                              25\n",
      "Amazon.in, Flipkart.com, Snapdeal.com                           25\n",
      "Amazon.in, Flipkart.com, Myntra.com, Snapdeal.com               14\n",
      "Snapdeal.com                                                    12\n",
      "Flipkart.com                                                     8\n",
      "Name: Fast loading website speed of website and application, dtype: int64\n",
      "*******************************************************************************************************\n",
      "\n",
      "\n",
      "Reliability of the website or application : ['Paytm.com' 'Myntra.com' 'Amazon.in, Paytm.com, Myntra.com'\n",
      " 'Amazon.in, Flipkart.com, Paytm.com'\n",
      " 'Amazon.in, Flipkart.com, Paytm.com, Snapdeal.com'\n",
      " 'Amazon.in, Flipkart.com, Snapdeal.com' 'Amazon.in'\n",
      " 'Amazon.in, Flipkart.com, Myntra.com, Snapdeal.com'\n",
      " 'Amazon.in, Flipkart.com' 'Flipkart.com']\n",
      "Amazon.in                                            61\n",
      "Amazon.in, Flipkart.com                              50\n",
      "Amazon.in, Flipkart.com, Paytm.com                   36\n",
      "Amazon.in, Paytm.com, Myntra.com                     35\n",
      "Amazon.in, Flipkart.com, Snapdeal.com                18\n",
      "Flipkart.com                                         15\n",
      "Myntra.com                                           15\n",
      "Amazon.in, Flipkart.com, Myntra.com, Snapdeal.com    14\n",
      "Amazon.in, Flipkart.com, Paytm.com, Snapdeal.com     13\n",
      "Paytm.com                                            12\n",
      "Name: Reliability of the website or application, dtype: int64\n",
      "*******************************************************************************************************\n",
      "\n",
      "\n",
      "Quickness to complete purchase : ['Paytm.com' 'Amazon.com, Flipkart.com, Myntra.com'\n",
      " 'Amazon.com, Paytm.com, Myntra.com' 'Amazon.com, Flipkart.com, Paytm.com'\n",
      " 'Amazon.com, Flipkart.com, Paytm.com, Myntra.com, Snapdeal' 'Amazon.com'\n",
      " 'Flipkart.com, Myntra.com, Snapdeal' 'Amazon.com, Flipkart.com'\n",
      " 'Flipkart.com']\n",
      "Amazon.com                                                   66\n",
      "Amazon.com, Flipkart.com, Paytm.com                          47\n",
      "Amazon.com, Flipkart.com                                     37\n",
      "Amazon.com, Flipkart.com, Myntra.com                         30\n",
      "Paytm.com                                                    25\n",
      "Amazon.com, Paytm.com, Myntra.com                            20\n",
      "Amazon.com, Flipkart.com, Paytm.com, Myntra.com, Snapdeal    15\n",
      "Flipkart.com                                                 15\n",
      "Flipkart.com, Myntra.com, Snapdeal                           14\n",
      "Name: Quickness to complete purchase, dtype: int64\n",
      "*******************************************************************************************************\n",
      "\n",
      "\n",
      "Availability of several payment options : ['Patym.com' 'Amazon.in, Flipkart.com, Myntra.com' 'Patym.com, Myntra.com'\n",
      " 'Amazon.in, Flipkart.com, Patym.com, Myntra.com, Snapdeal.com'\n",
      " 'Amazon.in, Flipkart.com, Snapdeal.com' 'Amazon.in, Flipkart.com'\n",
      " 'Flipkart.com, Myntra.com, Snapdeal.com' 'Amazon.in, Patym.com'\n",
      " 'Amazon.in, Flipkart.com, Myntra.com, Snapdeal.com' 'Amazon.in'\n",
      " 'Flipkart.com']\n",
      "Amazon.in, Flipkart.com                                         65\n",
      "Amazon.in, Flipkart.com, Myntra.com                             40\n",
      "Amazon.in, Flipkart.com, Patym.com, Myntra.com, Snapdeal.com    39\n",
      "Amazon.in                                                       23\n",
      "Patym.com, Myntra.com                                           20\n",
      "Amazon.in, Flipkart.com, Myntra.com, Snapdeal.com               19\n",
      "Amazon.in, Flipkart.com, Snapdeal.com                           18\n",
      "Flipkart.com, Myntra.com, Snapdeal.com                          14\n",
      "Patym.com                                                       12\n",
      "Amazon.in, Patym.com                                            11\n",
      "Flipkart.com                                                     8\n",
      "Name: Availability of several payment options, dtype: int64\n",
      "*******************************************************************************************************\n",
      "\n",
      "\n",
      "Speedy order delivery  : ['Amazon.in' 'Amazon.in, Flipkart.com'\n",
      " 'Amazon.in, Flipkart.com, Snapdeal.com'\n",
      " 'Flipkart.com, Myntra.com, Snapdeal.com'\n",
      " 'Amazon.in, Flipkart.com, Myntra.com' 'Flipkart.com']\n",
      "Amazon.in                                 107\n",
      "Amazon.in, Flipkart.com                    82\n",
      "Amazon.in, Flipkart.com, Snapdeal.com      36\n",
      "Amazon.in, Flipkart.com, Myntra.com        15\n",
      "Flipkart.com                               15\n",
      "Flipkart.com, Myntra.com, Snapdeal.com     14\n",
      "Name: Speedy order delivery , dtype: int64\n",
      "*******************************************************************************************************\n",
      "\n",
      "\n",
      "Privacy of customers’ information : ['Amazon.in' 'Myntra.com' 'Amazon.in, Flipkart.com, Myntra.com'\n",
      " 'Amazon.in, Paytm.com'\n",
      " 'Amazon.in, Flipkart.com, Paytm.com, Myntra.com, Snapdeal.com'\n",
      " 'Paytm.com' 'Amazon.in, Flipkart.com, Myntra.com, Snapdeal.com'\n",
      " 'Amazon.in, Flipkart.com' 'Amazon.in, Flipkart.com, Paytm.com'\n",
      " 'Amazon.in, Flipkart.com, Snapdeal.com' 'Flipkart.com']\n",
      "Amazon.in                                                       71\n",
      "Amazon.in, Flipkart.com                                         54\n",
      "Amazon.in, Flipkart.com, Myntra.com                             25\n",
      "Amazon.in, Flipkart.com, Paytm.com, Myntra.com, Snapdeal.com    24\n",
      "Paytm.com                                                       18\n",
      "Myntra.com                                                      15\n",
      "Flipkart.com                                                    15\n",
      "Amazon.in, Paytm.com                                            15\n",
      "Amazon.in, Flipkart.com, Myntra.com, Snapdeal.com               14\n",
      "Amazon.in, Flipkart.com, Paytm.com                              11\n",
      "Amazon.in, Flipkart.com, Snapdeal.com                            7\n",
      "Name: Privacy of customers’ information, dtype: int64\n",
      "*******************************************************************************************************\n",
      "\n",
      "\n",
      "Security of customer financial information : ['Amazon.in' 'Myntra.com' 'Amazon.in, Paytm.com, Myntra.com'\n",
      " 'Amazon.in, Flipkart.com, Snapdeal.com' 'Paytm.com'\n",
      " 'Amazon.in, Flipkart.com, Paytm.com, Myntra.com, Snapdeal.com'\n",
      " 'Flipkart.com' 'Amazon.in, Flipkart.com, Myntra.com, Snapdeal.com'\n",
      " 'Amazon.in, Flipkart.com' 'Amazon.in, Flipkart.com, Paytm.com'\n",
      " 'Amazon.in, Snapdeal.com']\n",
      "Amazon.in                                                       51\n",
      "Amazon.in, Flipkart.com, Paytm.com, Myntra.com, Snapdeal.com    42\n",
      "Flipkart.com                                                    33\n",
      "Amazon.in, Flipkart.com, Snapdeal.com                           25\n",
      "Amazon.in, Flipkart.com                                         24\n",
      "Amazon.in, Paytm.com, Myntra.com                                20\n",
      "Amazon.in, Snapdeal.com                                         19\n",
      "Myntra.com                                                      15\n",
      "Paytm.com                                                       15\n",
      "Amazon.in, Flipkart.com, Myntra.com, Snapdeal.com               14\n",
      "Amazon.in, Flipkart.com, Paytm.com                              11\n",
      "Name: Security of customer financial information, dtype: int64\n",
      "*******************************************************************************************************\n",
      "\n",
      "\n",
      "Perceived Trustworthiness : ['Flipkart.com' 'Myntra.com' 'Amazon.in, Myntra.com'\n",
      " 'Amazon.in, Flipkart.com, Snapdeal.com'\n",
      " 'Amazon.in, Flipkart.com, Paytm.com, Myntra.com, Snapdeal.com'\n",
      " 'Amazon.in' 'Amazon.in, Flipkart.com, Myntra.com, Snapdeal.com'\n",
      " 'Amazon.in, Flipkart.com' 'Amazon.in, Flipkart.com, Paytm.com']\n",
      "Amazon.in                                                       76\n",
      "Amazon.in, Flipkart.com, Snapdeal.com                           36\n",
      "Amazon.in, Myntra.com                                           35\n",
      "Amazon.in, Flipkart.com                                         31\n",
      "Flipkart.com                                                    27\n",
      "Amazon.in, Flipkart.com, Myntra.com, Snapdeal.com               25\n",
      "Myntra.com                                                      15\n",
      "Amazon.in, Flipkart.com, Paytm.com, Myntra.com, Snapdeal.com    13\n",
      "Amazon.in, Flipkart.com, Paytm.com                              11\n",
      "Name: Perceived Trustworthiness, dtype: int64\n",
      "*******************************************************************************************************\n",
      "\n",
      "\n",
      "Presence of online assistance through multi-channel : ['Paytm.com' 'Amazon.in, Flipkart.com, Myntra.com' 'Myntra.com'\n",
      " 'Amazon.in, Flipkart.com, Myntra.com, Snapdeal' 'Amazon.in, Myntra.com'\n",
      " 'Amazon.in, Flipkart.com, Paytm.com' 'Amazon.in'\n",
      " 'Amazon.in, Flipkart.com' 'Amazon.in, Snapdeal' 'Flipkart.com']\n",
      "Amazon.in, Flipkart.com, Myntra.com, Snapdeal    61\n",
      "Amazon.in                                        60\n",
      "Amazon.in, Flipkart.com                          39\n",
      "Amazon.in, Snapdeal                              26\n",
      "Myntra.com                                       20\n",
      "Amazon.in, Flipkart.com, Myntra.com              15\n",
      "Amazon.in, Myntra.com                            15\n",
      "Amazon.in, Flipkart.com, Paytm.com               13\n",
      "Paytm.com                                        12\n",
      "Flipkart.com                                      8\n",
      "Name: Presence of online assistance through multi-channel, dtype: int64\n",
      "*******************************************************************************************************\n",
      "\n",
      "\n",
      "Longer time to get logged in (promotion, sales period) : ['Amazon.in' 'Amazon.in, Flipkart.com' 'Myntra.com' 'Snapdeal.com'\n",
      " 'Flipkart.com, Paytm.com' 'Flipkart.com, Paytm.com, Snapdeal.com'\n",
      " 'Amazon.in, Flipkart.com, Snapdeal.com' 'Paytm.com'\n",
      " 'Amazon.in, Paytm.com' 'Flipkart.com']\n",
      "Amazon.in                                57\n",
      "Amazon.in, Flipkart.com                  38\n",
      "Paytm.com                                38\n",
      "Myntra.com                               35\n",
      "Amazon.in, Flipkart.com, Snapdeal.com    29\n",
      "Snapdeal.com                             25\n",
      "Flipkart.com, Paytm.com                  15\n",
      "Flipkart.com, Paytm.com, Snapdeal.com    13\n",
      "Amazon.in, Paytm.com                     11\n",
      "Flipkart.com                              8\n",
      "Name: Longer time to get logged in (promotion, sales period), dtype: int64\n",
      "*******************************************************************************************************\n",
      "\n",
      "\n",
      "Longer time in displaying graphics and photos (promotion, sales period) : ['Amazon.in' 'Myntra.com' 'Myntra.com, Snapdeal.com' 'Paytm.com'\n",
      " 'Amazon.in, Paytm.com' 'Amazon.in, Flipkart.com'\n",
      " 'Amazon.in, Myntra.com, Snapdeal.com' 'Flipkart.com, Snapdeal.com'\n",
      " 'Snapdeal.com' 'Flipkart.com']\n",
      "Amazon.in, Flipkart.com                60\n",
      "Amazon.in                              39\n",
      "Myntra.com                             35\n",
      "Snapdeal.com                           34\n",
      "Myntra.com, Snapdeal.com               25\n",
      "Flipkart.com, Snapdeal.com             19\n",
      "Paytm.com                              15\n",
      "Flipkart.com                           15\n",
      "Amazon.in, Myntra.com, Snapdeal.com    14\n",
      "Amazon.in, Paytm.com                   13\n",
      "Name: Longer time in displaying graphics and photos (promotion, sales period), dtype: int64\n",
      "*******************************************************************************************************\n",
      "\n",
      "\n",
      "Late declaration of price (promotion, sales period) : ['Flipkart.com' 'snapdeal.com' 'Myntra.com' 'Paytm.com'\n",
      " 'Amazon.in, Paytm.com' 'Amazon.in' 'Paytm.com, snapdeal.com'\n",
      " 'Amazon.in, Flipkart.com']\n",
      "Myntra.com                 75\n",
      "Paytm.com                  52\n",
      "snapdeal.com               41\n",
      "Amazon.in                  38\n",
      "Flipkart.com               38\n",
      "Amazon.in, Paytm.com       13\n",
      "Paytm.com, snapdeal.com     7\n",
      "Amazon.in, Flipkart.com     5\n",
      "Name: Late declaration of price (promotion, sales period), dtype: int64\n",
      "*******************************************************************************************************\n",
      "\n",
      "\n",
      "Longer page loading time (promotion, sales period) : ['Flipkart.com' 'Snapdeal.com' 'Myntra.com' 'Paytm.com'\n",
      " 'Amazon.in, Paytm.com' 'Amazon.in, Flipkart.com'\n",
      " 'Amazon.in, Snapdeal.com' 'Flipkart.com, Snapdeal.com'\n",
      " 'Paytm.com, Snapdeal.com' 'Amazon.in' 'Amazon.in, Paytm.com, Myntra.com']\n",
      "Myntra.com                          61\n",
      "Paytm.com                           59\n",
      "Flipkart.com                        32\n",
      "Snapdeal.com                        23\n",
      "Amazon.in, Flipkart.com             18\n",
      "Amazon.in                           16\n",
      "Paytm.com, Snapdeal.com             15\n",
      "Amazon.in, Snapdeal.com             14\n",
      "Amazon.in, Paytm.com                13\n",
      "Flipkart.com, Snapdeal.com          11\n",
      "Amazon.in, Paytm.com, Myntra.com     7\n",
      "Name: Longer page loading time (promotion, sales period), dtype: int64\n",
      "*******************************************************************************************************\n",
      "\n",
      "\n",
      "Limited mode of payment on most products (promotion, sales period) : ['Amazon.in' 'Snapdeal.com' 'Paytm.com' 'Amazon.in, Paytm.com'\n",
      " 'Flipkart.com' 'Amazon.in, Flipkart.com' 'Paytm.com, Snapdeal.com'\n",
      " 'Myntra.com, Snapdeal.com']\n",
      "Snapdeal.com                87\n",
      "Amazon.in                   62\n",
      "Flipkart.com                31\n",
      "Amazon.in, Flipkart.com     29\n",
      "Paytm.com                   25\n",
      "Paytm.com, Snapdeal.com     15\n",
      "Amazon.in, Paytm.com        13\n",
      "Myntra.com, Snapdeal.com     7\n",
      "Name: Limited mode of payment on most products (promotion, sales period), dtype: int64\n",
      "*******************************************************************************************************\n",
      "\n",
      "\n",
      "Longer delivery period : ['Paytm.com' 'Snapdeal.com' 'Flipkart.com' 'Amazon.in'\n",
      " 'Paytm.com, Snapdeal.com' 'Myntra.com']\n",
      "Paytm.com                  72\n",
      "Snapdeal.com               64\n",
      "Flipkart.com               44\n",
      "Amazon.in                  37\n",
      "Paytm.com, Snapdeal.com    26\n",
      "Myntra.com                 26\n",
      "Name: Longer delivery period, dtype: int64\n",
      "*******************************************************************************************************\n",
      "\n",
      "\n",
      "Change in website/Application design : ['Flipkart.com' 'Amazon.in' 'Paytm.com' 'Amazon.in, Flipkart.com'\n",
      " 'Myntra.com' 'Snapdeal.com' 'Flipkart.com, Myntra.com']\n",
      "Amazon.in                   96\n",
      "Paytm.com                   63\n",
      "Amazon.in, Flipkart.com     45\n",
      "Myntra.com                  30\n",
      "Flipkart.com                20\n",
      "Snapdeal.com                 8\n",
      "Flipkart.com, Myntra.com     7\n",
      "Name: Change in website/Application design, dtype: int64\n",
      "*******************************************************************************************************\n",
      "\n",
      "\n",
      "Frequent disruption when moving from one page to another : ['Amazon.in' 'Myntra.com' 'Paytm.com' 'Amazon.in, Flipkart.com'\n",
      " 'Snapdeal.com' 'Flipkart.com' 'Myntra.com, Snapdeal.com'\n",
      " 'Flipkart.com, Snapdeal.com']\n"
     ]
    },
    {
     "name": "stdout",
     "output_type": "stream",
     "text": [
      "Amazon.in                     53\n",
      "Myntra.com                    52\n",
      "Snapdeal.com                  49\n",
      "Paytm.com                     39\n",
      "Flipkart.com                  26\n",
      "Amazon.in, Flipkart.com       25\n",
      "Myntra.com, Snapdeal.com      14\n",
      "Flipkart.com, Snapdeal.com    11\n",
      "Name: Frequent disruption when moving from one page to another, dtype: int64\n",
      "*******************************************************************************************************\n",
      "\n",
      "\n",
      "Website is as efficient as before : ['Amazon.in' 'Amazon.in, Flipkart.com'\n",
      " 'Amazon.in, Flipkart.com, Paytm.com' 'Paytm.com' 'Snapdeal.com'\n",
      " 'Myntra.com, Snapdeal.com' 'Flipkart.com' 'Amazon.in, Paytm.com']\n",
      "Amazon.in                             94\n",
      "Flipkart.com                          47\n",
      "Amazon.in, Flipkart.com               45\n",
      "Amazon.in, Flipkart.com, Paytm.com    25\n",
      "Amazon.in, Paytm.com                  18\n",
      "Paytm.com                             15\n",
      "Myntra.com, Snapdeal.com              14\n",
      "Snapdeal.com                          11\n",
      "Name: Website is as efficient as before, dtype: int64\n",
      "*******************************************************************************************************\n",
      "\n",
      "\n",
      "Which of the Indian online retailer would you recommend to a friend? : ['Flipkart.com' 'Amazon.in, Myntra.com' 'Amazon.in, Paytm.com, Myntra.com'\n",
      " 'Amazon.in, Flipkart.com' 'Amazon.in, Paytm.com'\n",
      " 'Flipkart.com, Paytm.com, Myntra.com, snapdeal.com' 'Amazon.in'\n",
      " 'Amazon.in, Flipkart.com, Myntra.com']\n",
      "Amazon.in                                            79\n",
      "Amazon.in, Flipkart.com                              62\n",
      "Flipkart.com                                         39\n",
      "Amazon.in, Myntra.com                                30\n",
      "Amazon.in, Paytm.com, Myntra.com                     20\n",
      "Amazon.in, Flipkart.com, Myntra.com                  15\n",
      "Amazon.in, Paytm.com                                 13\n",
      "Flipkart.com, Paytm.com, Myntra.com, snapdeal.com    11\n",
      "Name: Which of the Indian online retailer would you recommend to a friend?, dtype: int64\n",
      "*******************************************************************************************************\n",
      "\n",
      "\n"
     ]
    }
   ],
   "source": [
    "# Exploring Categorical Columns\n",
    "for column in df.columns:\n",
    "    if df[column].dtypes == object:\n",
    "        print(str(column) + ' : ' + str(df[column].unique()))\n",
    "        print(df[column].value_counts())\n",
    "        print('*******************************************************************************************************')\n",
    "        print('\\n')"
   ]
  },
  {
   "cell_type": "markdown",
   "metadata": {},
   "source": [
    "# Checking missing values"
   ]
  },
  {
   "cell_type": "code",
   "execution_count": 10,
   "metadata": {},
   "outputs": [
    {
     "data": {
      "text/plain": [
       "1Gender of respondent                                                   0\n",
       "2 How old are you?                                                      0\n",
       "3 Which city do you shop online from?                                   0\n",
       "4 What is the Pin Code of where you shop online from?                   0\n",
       "5 Since How Long You are Shopping Online ?                              0\n",
       "                                                                       ..\n",
       "Longer delivery period                                                  0\n",
       "Change in website/Application design                                    0\n",
       "Frequent disruption when moving from one page to another                0\n",
       "Website is as efficient as before                                       0\n",
       "Which of the Indian online retailer would you recommend to a friend?    0\n",
       "Length: 71, dtype: int64"
      ]
     },
     "execution_count": 10,
     "metadata": {},
     "output_type": "execute_result"
    }
   ],
   "source": [
    "#checking if missing values present\n",
    "df.isnull().sum()"
   ]
  },
  {
   "cell_type": "markdown",
   "metadata": {},
   "source": [
    "Observation:\n",
    "\n",
    "There are no missing values present in the dataset."
   ]
  },
  {
   "cell_type": "code",
   "execution_count": null,
   "metadata": {},
   "outputs": [],
   "source": [
    "#Visualizing missing values through heatmap\n",
    "plt.figure(figsize=(14,14))\n",
    "sns.heatmap(df.isnull(),yticklabels=False,cbar=False)"
   ]
  },
  {
   "cell_type": "markdown",
   "metadata": {},
   "source": [
    "Observation:\n",
    "\n",
    "We confirmed through heatmap chart that there are no missing values present in the dataset."
   ]
  },
  {
   "cell_type": "markdown",
   "metadata": {},
   "source": [
    "# Data visualization"
   ]
  },
  {
   "cell_type": "code",
   "execution_count": 15,
   "metadata": {},
   "outputs": [
    {
     "data": {
      "image/png": "[encoded data removed]",
      "text/plain": [
       "<Figure size 576x432 with 1 Axes>"
      ]
     },
     "metadata": {
      "needs_background": "light"
     },
     "output_type": "display_data"
    },
    {
     "data": {
      "text/plain": [
       "Female    181\n",
       "Male       88\n",
       "Name: 1Gender of respondent, dtype: int64"
      ]
     },
     "execution_count": 15,
     "metadata": {},
     "output_type": "execute_result"
    }
   ],
   "source": [
    "# Gender of respondent\n",
    "plt.subplots(figsize=(8,6))\n",
    "sns.countplot(x=\"1Gender of respondent\", data=df)\n",
    "plt.xlabel('Gender')\n",
    "plt.ylabel(\"count\")\n",
    "plt.show()\n",
    "\n",
    "df['1Gender of respondent'].value_counts()"
   ]
  },
  {
   "cell_type": "markdown",
   "metadata": {},
   "source": [
    "\n",
    "Observation:\n",
    "\n",
    "As per dataset, female participants are more. Female consists of 181 Nos. while Male are 88."
   ]
  },
  {
   "cell_type": "code",
   "execution_count": 17,
   "metadata": {},
   "outputs": [
    {
     "data": {
      "image/png": "[encoded data removed]",
      "text/plain": [
       "<Figure size 576x432 with 1 Axes>"
      ]
     },
     "metadata": {
      "needs_background": "light"
     },
     "output_type": "display_data"
    },
    {
     "data": {
      "text/plain": [
       "31-40 years           81\n",
       "21-30 years           79\n",
       "41-50 yaers           70\n",
       "Less than 20 years    20\n",
       "51 years and above    19\n",
       "Name: 2 How old are you? , dtype: int64"
      ]
     },
     "execution_count": 17,
     "metadata": {},
     "output_type": "execute_result"
    }
   ],
   "source": [
    "# Age of participants \n",
    "plt.subplots(figsize=(8,6))\n",
    "sns.countplot(x=\"2 How old are you? \", data=df)\n",
    "plt.xticks(rotation=90)\n",
    "plt.xlabel('How old are you? ')\n",
    "plt.ylabel(\"count\")\n",
    "plt.show()\n",
    "\n",
    "df['2 How old are you? '].value_counts()"
   ]
  },
  {
   "cell_type": "markdown",
   "metadata": {},
   "source": [
    "\n",
    "Observation:\n",
    "\n",
    "We can see that most of the people are in age group of 31-40 years who have participated in survey followed by 21-30 Years"
   ]
  },
  {
   "cell_type": "code",
   "execution_count": 18,
   "metadata": {},
   "outputs": [
    {
     "data": {
      "image/png": "[encoded data removed]",
      "text/plain": [
       "<Figure size 576x432 with 1 Axes>"
      ]
     },
     "metadata": {
      "needs_background": "light"
     },
     "output_type": "display_data"
    },
    {
     "data": {
      "text/plain": [
       "Delhi            58\n",
       "Greater Noida    43\n",
       "Noida            40\n",
       "Bangalore        37\n",
       "Karnal           27\n",
       "Solan            18\n",
       "Ghaziabad        18\n",
       "Gurgaon          12\n",
       "Merrut            9\n",
       "Moradabad         5\n",
       "Bulandshahr       2\n",
       "Name: 3 Which city do you shop online from?, dtype: int64"
      ]
     },
     "execution_count": 18,
     "metadata": {},
     "output_type": "execute_result"
    }
   ],
   "source": [
    "# Which city do you shop online from?\n",
    "plt.subplots(figsize=(8,6))\n",
    "sns.countplot(x=\"3 Which city do you shop online from?\", data=df)\n",
    "plt.xticks(rotation=90)\n",
    "plt.xlabel('3 Which city do you shop online from?')\n",
    "plt.ylabel(\"count\")\n",
    "plt.show()\n",
    "\n",
    "df['3 Which city do you shop online from?'].value_counts()"
   ]
  },
  {
   "cell_type": "markdown",
   "metadata": {},
   "source": [
    "Observation:\n",
    "\n",
    "Delhi has the maximum buyers followed by Greater Noida and Noida"
   ]
  },
  {
   "cell_type": "code",
   "execution_count": 20,
   "metadata": {},
   "outputs": [
    {
     "data": {
      "image/png": "[encoded data removed]",
      "text/plain": [
       "<Figure size 720x720 with 1 Axes>"
      ]
     },
     "metadata": {
      "needs_background": "light"
     },
     "output_type": "display_data"
    },
    {
     "data": {
      "text/plain": [
       "201308    38\n",
       "132001    19\n",
       "201310    18\n",
       "110044    16\n",
       "173212     9\n",
       "250001     9\n",
       "173229     9\n",
       "560037     8\n",
       "132036     8\n",
       "560010     8\n",
       "122018     8\n",
       "110011     7\n",
       "201306     7\n",
       "110008     7\n",
       "110014     6\n",
       "110018     6\n",
       "244001     5\n",
       "201312     5\n",
       "530068     5\n",
       "201305     5\n",
       "201009     5\n",
       "201008     5\n",
       "201005     4\n",
       "201001     4\n",
       "201304     4\n",
       "110039     4\n",
       "110030     4\n",
       "110009     4\n",
       "560018     4\n",
       "560003     4\n",
       "122009     4\n",
       "560002     4\n",
       "110042     4\n",
       "201303     4\n",
       "560013     3\n",
       "203001     2\n",
       "560001     1\n",
       "203207     1\n",
       "203202     1\n",
       "Name: 4 What is the Pin Code of where you shop online from?, dtype: int64"
      ]
     },
     "execution_count": 20,
     "metadata": {},
     "output_type": "execute_result"
    }
   ],
   "source": [
    "# Pin Code of where shoping online\n",
    "plt.subplots(figsize=(10,10))\n",
    "sns.countplot(x=\"4 What is the Pin Code of where you shop online from?\", data=df)\n",
    "plt.xticks(rotation= 90)\n",
    "plt.ylabel(\"count\")\n",
    "plt.show()\n",
    "\n",
    "df['4 What is the Pin Code of where you shop online from?'].value_counts()"
   ]
  },
  {
   "cell_type": "markdown",
   "metadata": {},
   "source": [
    "Observation:\n",
    "\n",
    "The persons from pincode 201308 has done maximum Shopping."
   ]
  },
  {
   "cell_type": "code",
   "execution_count": 21,
   "metadata": {},
   "outputs": [
    {
     "data": {
      "image/png": "[encoded data removed]",
      "text/plain": [
       "<Figure size 576x432 with 1 Axes>"
      ]
     },
     "metadata": {
      "needs_background": "light"
     },
     "output_type": "display_data"
    },
    {
     "data": {
      "text/plain": [
       "Above 4 years       98\n",
       "2-3 years           65\n",
       "3-4 years           47\n",
       "Less than 1 year    43\n",
       "1-2 years           16\n",
       "Name: 5 Since How Long You are Shopping Online ?, dtype: int64"
      ]
     },
     "execution_count": 21,
     "metadata": {},
     "output_type": "execute_result"
    }
   ],
   "source": [
    "# How Long Shopping Online ?\n",
    "plt.subplots(figsize=(8,6))\n",
    "sns.countplot(x=\"5 Since How Long You are Shopping Online ?\", data=df)\n",
    "plt.xticks(rotation=0)\n",
    "plt.xlabel('5 Since How Long You are Shopping Online ?')\n",
    "plt.ylabel(\"count\")\n",
    "plt.show()\n",
    "\n",
    "df['5 Since How Long You are Shopping Online ?'].value_counts()"
   ]
  },
  {
   "cell_type": "markdown",
   "metadata": {},
   "source": [
    "Observation:\n",
    "\n",
    "Most of the people have done online shopping with above 4 Yrs."
   ]
  },
  {
   "cell_type": "code",
   "execution_count": 22,
   "metadata": {},
   "outputs": [
    {
     "data": {
      "image/png": "[encoded data removed]",
      "text/plain": [
       "<Figure size 576x432 with 1 Axes>"
      ]
     },
     "metadata": {
      "needs_background": "light"
     },
     "output_type": "display_data"
    },
    {
     "data": {
      "text/plain": [
       "Less than 10 times    114\n",
       "31-40 times            63\n",
       "41 times and above     47\n",
       "11-20 times            29\n",
       "21-30 times            10\n",
       "42 times and above      6\n",
       "Name: 6 How many times you have made an online purchase in the past 1 year?, dtype: int64"
      ]
     },
     "execution_count": 22,
     "metadata": {},
     "output_type": "execute_result"
    }
   ],
   "source": [
    "# How many times you have made an online purchase in the past 1 year?\n",
    "plt.subplots(figsize=(8,6))\n",
    "sns.countplot(x=\"6 How many times you have made an online purchase in the past 1 year?\", data=df)\n",
    "plt.xticks(rotation=90)\n",
    "plt.xlabel('6 How many times you have made an online purchase in the past 1 year?')\n",
    "plt.ylabel(\"count\")\n",
    "plt.show()\n",
    "\n",
    "df['6 How many times you have made an online purchase in the past 1 year?'].value_counts()"
   ]
  },
  {
   "cell_type": "markdown",
   "metadata": {},
   "source": [
    "Observation:\n",
    "\n",
    "114 of the customers have made less than 10 times online purchase in the past 1 year."
   ]
  },
  {
   "cell_type": "code",
   "execution_count": 23,
   "metadata": {},
   "outputs": [
    {
     "data": {
      "image/png": "[encoded data removed]",
      "text/plain": [
       "<Figure size 576x432 with 1 Axes>"
      ]
     },
     "metadata": {
      "needs_background": "light"
     },
     "output_type": "display_data"
    },
    {
     "data": {
      "text/plain": [
       "Mobile internet    142\n",
       "Wi-Fi               76\n",
       "Mobile Internet     47\n",
       "Dial-up              4\n",
       "Name: 7 How do you access the internet while shopping on-line?, dtype: int64"
      ]
     },
     "execution_count": 23,
     "metadata": {},
     "output_type": "execute_result"
    }
   ],
   "source": [
    "# How do you access the internet while shopping on-line?\n",
    "plt.subplots(figsize=(8,6))\n",
    "sns.countplot(x=\"7 How do you access the internet while shopping on-line?\", data=df)\n",
    "plt.xticks(rotation=90)\n",
    "plt.xlabel('7 How do you access the internet while shopping on-line?')\n",
    "plt.ylabel(\"count\")\n",
    "plt.show()\n",
    "\n",
    "df['7 How do you access the internet while shopping on-line?'].value_counts()"
   ]
  },
  {
   "cell_type": "markdown",
   "metadata": {},
   "source": [
    "Observation:\n",
    "\n",
    "Most of the pople prefer Mobile Internet for online Shopping followed by WiFi and Mobile Internet"
   ]
  },
  {
   "cell_type": "code",
   "execution_count": 25,
   "metadata": {},
   "outputs": [
    {
     "data": {
      "image/png": "[encoded data removed]",
      "text/plain": [
       "<Figure size 576x432 with 1 Axes>"
      ]
     },
     "metadata": {
      "needs_background": "light"
     },
     "output_type": "display_data"
    },
    {
     "data": {
      "text/plain": [
       "Smartphone    141\n",
       "Laptop         86\n",
       "Desktop        30\n",
       "Tablet         12\n",
       "Name: 8 Which device do you use to access the online shopping?, dtype: int64"
      ]
     },
     "execution_count": 25,
     "metadata": {},
     "output_type": "execute_result"
    }
   ],
   "source": [
    "# Which device do you use to access the online shopping?\n",
    "plt.subplots(figsize=(8,6))\n",
    "sns.countplot(x=\"8 Which device do you use to access the online shopping?\", data=df)\n",
    "plt.xticks(rotation=0)\n",
    "plt.xlabel('8 Which device do you use to access the online shopping?')\n",
    "plt.ylabel(\"count\")\n",
    "plt.show()\n",
    "\n",
    "df['8 Which device do you use to access the online shopping?'].value_counts()"
   ]
  },
  {
   "cell_type": "markdown",
   "metadata": {},
   "source": [
    "Observation:\n",
    "\n",
    "Most of the people uses Smartphone for Online Shopping."
   ]
  },
  {
   "cell_type": "code",
   "execution_count": 28,
   "metadata": {},
   "outputs": [
    {
     "data": {
      "image/png": "[encoded data removed]",
      "text/plain": [
       "<Figure size 576x432 with 1 Axes>"
      ]
     },
     "metadata": {
      "needs_background": "light"
     },
     "output_type": "display_data"
    },
    {
     "data": {
      "text/plain": [
       "Others        134\n",
       "5.5 inches     99\n",
       "4.7 inches     29\n",
       "5 inches        7\n",
       "Name: 9 What is the screen size of your mobile device?\\t\\t\\t\\t\\t\\t                                        , dtype: int64"
      ]
     },
     "execution_count": 28,
     "metadata": {},
     "output_type": "execute_result"
    }
   ],
   "source": [
    "# What is the screen size of your mobile device?                                   \n",
    "plt.subplots(figsize=(8,6))\n",
    "sns.countplot(x=\"9 What is the screen size of your mobile device?\\t\\t\\t\\t\\t\\t                                        \", data=df)\n",
    "plt.xticks(rotation=0)\n",
    "plt.xlabel('9 What is the screen size of your mobile device?\\t\\t\\t\\t\\t\\t                                        ')\n",
    "plt.ylabel(\"count\")\n",
    "plt.show()\n",
    "\n",
    "df['9 What is the screen size of your mobile device?\\t\\t\\t\\t\\t\\t                                        '].value_counts()"
   ]
  },
  {
   "cell_type": "markdown",
   "metadata": {},
   "source": [
    "Observation:\n",
    "\n",
    "134 customers have other screen size of mobile."
   ]
  },
  {
   "cell_type": "code",
   "execution_count": 30,
   "metadata": {},
   "outputs": [
    {
     "data": {
      "image/png": "[encoded data removed]",
      "text/plain": [
       "<Figure size 576x432 with 1 Axes>"
      ]
     },
     "metadata": {
      "needs_background": "light"
     },
     "output_type": "display_data"
    },
    {
     "data": {
      "text/plain": [
       "Window/windows Mobile    122\n",
       "Android                   85\n",
       "IOS/Mac                   62\n",
       "Name: 10 What is the operating system (OS) of your device?\\t\\t\\t\\t                                          , dtype: int64"
      ]
     },
     "execution_count": 30,
     "metadata": {},
     "output_type": "execute_result"
    }
   ],
   "source": [
    "# What is the operating system (OS) of your device?                                     \n",
    "plt.subplots(figsize=(8,6))\n",
    "sns.countplot(x=\"10 What is the operating system (OS) of your device?\\t\\t\\t\\t                                          \", data=df)\n",
    "plt.xticks(rotation=0)\n",
    "plt.xlabel('10 What is the operating system (OS) of your device?\\t\\t\\t\\t                                          ')\n",
    "plt.ylabel(\"count\")\n",
    "plt.show()\n",
    "\n",
    "df['10 What is the operating system (OS) of your device?\\t\\t\\t\\t                                          '].value_counts()"
   ]
  },
  {
   "cell_type": "markdown",
   "metadata": {},
   "source": [
    "\n",
    "Observation:\n",
    "\n",
    "122 customers are using Window/windows mobile"
   ]
  },
  {
   "cell_type": "code",
   "execution_count": 32,
   "metadata": {},
   "outputs": [
    {
     "data": {
      "image/png": "[encoded data removed]",
      "text/plain": [
       "<Figure size 576x432 with 1 Axes>"
      ]
     },
     "metadata": {
      "needs_background": "light"
     },
     "output_type": "display_data"
    },
    {
     "data": {
      "text/plain": [
       "Google chrome      216\n",
       "Safari              40\n",
       "Opera                8\n",
       "Mozilla Firefox      5\n",
       "Name: 11 What browser do you run on your device to access the website?\\t\\t\\t                                                          , dtype: int64"
      ]
     },
     "execution_count": 32,
     "metadata": {},
     "output_type": "execute_result"
    }
   ],
   "source": [
    "# What browser do you run on your device to access the website?                                                        \n",
    "plt.subplots(figsize=(8,6))\n",
    "sns.countplot(x=\"11 What browser do you run on your device to access the website?\\t\\t\\t                                                          \", data=df)\n",
    "plt.xticks(rotation=0)\n",
    "plt.xlabel('11 What browser do you run on your device to access the website?\\t\\t\\t                                                          ')\n",
    "plt.ylabel(\"count\")\n",
    "plt.show()\n",
    "\n",
    "df['11 What browser do you run on your device to access the website?\\t\\t\\t                                                          '].value_counts()\n"
   ]
  },
  {
   "cell_type": "markdown",
   "metadata": {},
   "source": [
    "Observation:\n",
    "\n",
    "Most of the customers use Google Chrome browser to access the websites."
   ]
  },
  {
   "cell_type": "code",
   "execution_count": 33,
   "metadata": {},
   "outputs": [
    {
     "data": {
      "image/png": "[encoded data removed]",
      "text/plain": [
       "<Figure size 576x432 with 1 Axes>"
      ]
     },
     "metadata": {
      "needs_background": "light"
     },
     "output_type": "display_data"
    },
    {
     "data": {
      "text/plain": [
       "Search Engine      87\n",
       "Via application    86\n",
       "Direct URL         70\n",
       "E-mail             18\n",
       "Social Media        8\n",
       "Name: 13 After first visit, how do you reach the online retail store?\\t\\t\\t\\t                                                   , dtype: int64"
      ]
     },
     "execution_count": 33,
     "metadata": {},
     "output_type": "execute_result"
    }
   ],
   "source": [
    "# Which channel did you follow to arrive at your favorite online store for the first time?                                              \n",
    "plt.subplots(figsize=(8,6))\n",
    "sns.countplot(x=\"13 After first visit, how do you reach the online retail store?\\t\\t\\t\\t                                                   \", data=df)\n",
    "plt.xticks(rotation=0)\n",
    "plt.xlabel('13 After first visit, how do you reach the online retail store?\\t\\t\\t\\t                                                   ')\n",
    "plt.ylabel(\"count\")\n",
    "plt.show()\n",
    "\n",
    "df['13 After first visit, how do you reach the online retail store?\\t\\t\\t\\t                                                   '].value_counts()"
   ]
  },
  {
   "cell_type": "markdown",
   "metadata": {},
   "source": [
    "Observation:\n",
    "\n",
    "Most of the people have used Search Engine to find their product."
   ]
  },
  {
   "cell_type": "code",
   "execution_count": 34,
   "metadata": {},
   "outputs": [
    {
     "data": {
      "image/png": "[encoded data removed]",
      "text/plain": [
       "<Figure size 576x432 with 1 Axes>"
      ]
     },
     "metadata": {
      "needs_background": "light"
     },
     "output_type": "display_data"
    },
    {
     "data": {
      "text/plain": [
       "Strongly agree (5)       164\n",
       "Agree (4)                 80\n",
       "Strongly disagree (1)     18\n",
       "Indifferent (3)            7\n",
       "Name: 18 The content on the website must be easy to read and understand, dtype: int64"
      ]
     },
     "execution_count": 34,
     "metadata": {},
     "output_type": "execute_result"
    }
   ],
   "source": [
    "# The content on the website must be easy to read and understand\n",
    "plt.subplots(figsize=(8,6))\n",
    "sns.countplot(x=\"18 The content on the website must be easy to read and understand\", data=df)\n",
    "plt.xticks(rotation=0)\n",
    "plt.xlabel('18 The content on the website must be easy to read and understand')\n",
    "plt.ylabel(\"count\")\n",
    "plt.show()\n",
    "\n",
    "df['18 The content on the website must be easy to read and understand'].value_counts()"
   ]
  },
  {
   "cell_type": "markdown",
   "metadata": {},
   "source": [
    "Observation:\n",
    "\n",
    "Most of the customers strongly agree that the content on the website must be easy to read and understand"
   ]
  },
  {
   "cell_type": "code",
   "execution_count": 35,
   "metadata": {},
   "outputs": [
    {
     "data": {
      "image/png": "[encoded data removed]",
      "text/plain": [
       "<Figure size 576x432 with 1 Axes>"
      ]
     },
     "metadata": {
      "needs_background": "light"
     },
     "output_type": "display_data"
    },
    {
     "data": {
      "text/plain": [
       "Strongly agree (5)    116\n",
       "Agree (4)              92\n",
       "Indifferent (3)        43\n",
       "Dis-agree (2)          18\n",
       "Name: 19 Information on similar product to the one highlighted  is important for product comparison, dtype: int64"
      ]
     },
     "execution_count": 35,
     "metadata": {},
     "output_type": "execute_result"
    }
   ],
   "source": [
    "# Information on similar product to the one highlighted is important for product comparison\n",
    "plt.subplots(figsize=(8,6))\n",
    "sns.countplot(x=\"19 Information on similar product to the one highlighted  is important for product comparison\", data=df)\n",
    "plt.xticks(rotation= 0)\n",
    "plt.xlabel('19 Information on similar product to the one highlighted  is important for product comparison')\n",
    "plt.ylabel(\"count\")\n",
    "plt.show()\n",
    "\n",
    "df['19 Information on similar product to the one highlighted  is important for product comparison'].value_counts()"
   ]
  },
  {
   "cell_type": "markdown",
   "metadata": {},
   "source": [
    "Observation:\n",
    "\n",
    "Most of the customers strongly agree that the Information on similar product to the one highlighted  is important for product comparison"
   ]
  },
  {
   "cell_type": "code",
   "execution_count": 36,
   "metadata": {},
   "outputs": [
    {
     "data": {
      "image/png": "[encoded data removed]",
      "text/plain": [
       "<Figure size 576x432 with 1 Axes>"
      ]
     },
     "metadata": {
      "needs_background": "light"
     },
     "output_type": "display_data"
    },
    {
     "data": {
      "text/plain": [
       "Agree (4)                101\n",
       "Strongly agree (5)        87\n",
       "Indifferent (3)           52\n",
       "Dis-agree (2)             18\n",
       "Strongly disagree (1)     11\n",
       "Name: 20 Complete information on listed seller and product being offered is important for purchase decision., dtype: int64"
      ]
     },
     "execution_count": 36,
     "metadata": {},
     "output_type": "execute_result"
    }
   ],
   "source": [
    "# Complete information on listed seller and product being offered is important for purchase decision.\n",
    "plt.subplots(figsize=(8,6))\n",
    "sns.countplot(x=\"20 Complete information on listed seller and product being offered is important for purchase decision.\", data=df)\n",
    "plt.xticks(rotation=0)\n",
    "plt.xlabel('20 Complete information on listed seller and product being offered is important for purchase decision.')\n",
    "plt.ylabel(\"count\")\n",
    "plt.show()\n",
    "\n",
    "df['20 Complete information on listed seller and product being offered is important for purchase decision.'].value_counts()"
   ]
  },
  {
   "cell_type": "markdown",
   "metadata": {},
   "source": [
    "\n",
    "Observation:\n",
    "\n",
    "Most of the customers agree that the Complete information on listed seller and product being offered is important for purchase decision"
   ]
  },
  {
   "cell_type": "code",
   "execution_count": 37,
   "metadata": {},
   "outputs": [
    {
     "data": {
      "image/png": "[encoded data removed]",
      "text/plain": [
       "<Figure size 576x432 with 1 Axes>"
      ]
     },
     "metadata": {
      "needs_background": "light"
     },
     "output_type": "display_data"
    },
    {
     "data": {
      "text/plain": [
       "Agree (4)                132\n",
       "Strongly agree (5)       107\n",
       "Strongly disagree (1)     18\n",
       "Dis-agree (2)             12\n",
       "Name: 21 All relevant information on listed products must be stated clearly, dtype: int64"
      ]
     },
     "execution_count": 37,
     "metadata": {},
     "output_type": "execute_result"
    }
   ],
   "source": [
    "# All relevant information on listed products must be stated clearly\n",
    "plt.subplots(figsize=(8,6))\n",
    "sns.countplot(x=\"21 All relevant information on listed products must be stated clearly\", data=df)\n",
    "plt.xticks(rotation=0)\n",
    "plt.xlabel('21 All relevant information on listed products must be stated clearly')\n",
    "plt.ylabel(\"count\")\n",
    "plt.show()\n",
    "\n",
    "df['21 All relevant information on listed products must be stated clearly'].value_counts()"
   ]
  },
  {
   "cell_type": "markdown",
   "metadata": {},
   "source": [
    "Observation:\n",
    "\n",
    "Most of the customers agree that all relevant information on listed products must be stated clearly"
   ]
  },
  {
   "cell_type": "code",
   "execution_count": 39,
   "metadata": {},
   "outputs": [
    {
     "data": {
      "image/png": "[encoded data removed]",
      "text/plain": [
       "<Figure size 576x432 with 1 Axes>"
      ]
     },
     "metadata": {
      "needs_background": "light"
     },
     "output_type": "display_data"
    },
    {
     "data": {
      "text/plain": [
       "Strongly agree (5)       141\n",
       "Agree (4)                105\n",
       "Strongly disagree (1)     18\n",
       "Dis-agree (2)              5\n",
       "Name: 22 Ease of navigation in website, dtype: int64"
      ]
     },
     "execution_count": 39,
     "metadata": {},
     "output_type": "execute_result"
    }
   ],
   "source": [
    "# Ease of navigation in website\n",
    "plt.subplots(figsize=(8,6))\n",
    "sns.countplot(x=\"22 Ease of navigation in website\", data=df)\n",
    "plt.xticks(rotation=0)\n",
    "plt.xlabel('22 Ease of navigation in website')\n",
    "plt.ylabel(\"count\")\n",
    "plt.show()\n",
    "\n",
    "df['22 Ease of navigation in website'].value_counts()"
   ]
  },
  {
   "cell_type": "markdown",
   "metadata": {},
   "source": [
    "Observation:\n",
    "\n",
    "Most of the customers strongly agree that Ease of navigation in website is necessary."
   ]
  },
  {
   "cell_type": "code",
   "execution_count": 41,
   "metadata": {},
   "outputs": [
    {
     "data": {
      "image/png": "[encoded data removed]",
      "text/plain": [
       "<Figure size 576x432 with 1 Axes>"
      ]
     },
     "metadata": {
      "needs_background": "light"
     },
     "output_type": "display_data"
    },
    {
     "data": {
      "text/plain": [
       "Strongly agree (5)       115\n",
       "Agree (4)                112\n",
       "Dis-agree (2)             18\n",
       "Strongly disagree (1)     12\n",
       "Indifferent (3)           12\n",
       "Name: 23 Loading and processing speed, dtype: int64"
      ]
     },
     "execution_count": 41,
     "metadata": {},
     "output_type": "execute_result"
    }
   ],
   "source": [
    "# Loading and processing speed\n",
    "plt.subplots(figsize=(8,6))\n",
    "sns.countplot(x=\"23 Loading and processing speed\", data=df)\n",
    "plt.xticks(rotation=90)\n",
    "plt.xlabel('23 Loading and processing speed')\n",
    "plt.ylabel(\"count\")\n",
    "plt.show()\n",
    "\n",
    "df['23 Loading and processing speed'].value_counts()"
   ]
  },
  {
   "cell_type": "markdown",
   "metadata": {},
   "source": [
    "Observation:\n",
    "\n",
    "Most of the customers strongly agree to Loading and processing speed of website followed by agree."
   ]
  },
  {
   "cell_type": "code",
   "execution_count": 42,
   "metadata": {},
   "outputs": [
    {
     "data": {
      "image/png": "[encoded data removed]",
      "text/plain": [
       "<Figure size 576x432 with 1 Axes>"
      ]
     },
     "metadata": {
      "needs_background": "light"
     },
     "output_type": "display_data"
    },
    {
     "data": {
      "text/plain": [
       "Strongly agree (5)       189\n",
       "Agree (4)                 45\n",
       "Strongly disagree (1)     18\n",
       "Dis-agree (2)             12\n",
       "Indifferent (3)            5\n",
       "Name: 24 User friendly Interface of the website, dtype: int64"
      ]
     },
     "execution_count": 42,
     "metadata": {},
     "output_type": "execute_result"
    }
   ],
   "source": [
    "# User friendly Interface of the website\n",
    "plt.subplots(figsize=(8,6))\n",
    "sns.countplot(x=\"24 User friendly Interface of the website\", data=df)\n",
    "plt.xticks(rotation=0)\n",
    "plt.xlabel('24 User friendly Interface of the website')\n",
    "plt.ylabel(\"count\")\n",
    "plt.show()\n",
    "\n",
    "df['24 User friendly Interface of the website'].value_counts()"
   ]
  },
  {
   "cell_type": "markdown",
   "metadata": {},
   "source": [
    "Observation:\n",
    "\n",
    "Most of the customers strongly agree that website must have user friendly Interface"
   ]
  },
  {
   "cell_type": "code",
   "execution_count": 43,
   "metadata": {},
   "outputs": [
    {
     "data": {
      "image/png": "[encoded data removed]",
      "text/plain": [
       "<Figure size 576x432 with 1 Axes>"
      ]
     },
     "metadata": {
      "needs_background": "light"
     },
     "output_type": "display_data"
    },
    {
     "data": {
      "text/plain": [
       "Strongly agree (5)    159\n",
       "Agree (4)              80\n",
       "Dis-agree (2)          30\n",
       "Name: 25 Convenient Payment methods, dtype: int64"
      ]
     },
     "execution_count": 43,
     "metadata": {},
     "output_type": "execute_result"
    }
   ],
   "source": [
    "# Convenient Payment methods\n",
    "plt.subplots(figsize=(8,6))\n",
    "sns.countplot(x=\"25 Convenient Payment methods\", data=df)\n",
    "plt.xticks(rotation=0)\n",
    "plt.xlabel('25 Convenient Payment methods')\n",
    "plt.ylabel(\"count\")\n",
    "plt.show()\n",
    "\n",
    "df['25 Convenient Payment methods'].value_counts()"
   ]
  },
  {
   "cell_type": "markdown",
   "metadata": {},
   "source": [
    "Observation:\n",
    "\n",
    "Most of the customers strongly agree that Convenient Payment methods must be available on website"
   ]
  },
  {
   "cell_type": "code",
   "execution_count": 44,
   "metadata": {},
   "outputs": [
    {
     "data": {
      "image/png": "[encoded data removed]",
      "text/plain": [
       "<Figure size 576x432 with 1 Axes>"
      ]
     },
     "metadata": {
      "needs_background": "light"
     },
     "output_type": "display_data"
    },
    {
     "data": {
      "text/plain": [
       "Strongly agree (5)    141\n",
       "Agree (4)              86\n",
       "Disagree (2)           30\n",
       "indifferent  (3)       12\n",
       "Name: 26 Trust that the online retail store will fulfill its part of the transaction at the stipulated time, dtype: int64"
      ]
     },
     "execution_count": 44,
     "metadata": {},
     "output_type": "execute_result"
    }
   ],
   "source": [
    "# Trust that the online retail store will fulfill its part of the transaction at the stipulated time\n",
    "plt.subplots(figsize=(8,6))\n",
    "sns.countplot(x=\"26 Trust that the online retail store will fulfill its part of the transaction at the stipulated time\", data=df)\n",
    "plt.xticks(rotation=0)\n",
    "plt.xlabel('26 Trust that the online retail store will fulfill its part of the transaction at the stipulated time')\n",
    "plt.ylabel(\"count\")\n",
    "plt.show()\n",
    "\n",
    "df['26 Trust that the online retail store will fulfill its part of the transaction at the stipulated time'].value_counts()"
   ]
  },
  {
   "cell_type": "markdown",
   "metadata": {},
   "source": [
    "Observation:\n",
    "\n",
    "Most of the customers Strongly agree that the online retail store will fulfill its part of the transaction at the stipulated time"
   ]
  },
  {
   "cell_type": "code",
   "execution_count": 46,
   "metadata": {},
   "outputs": [
    {
     "data": {
      "image/png": "[encoded data removed]",
      "text/plain": [
       "<Figure size 576x432 with 1 Axes>"
      ]
     },
     "metadata": {
      "needs_background": "light"
     },
     "output_type": "display_data"
    },
    {
     "data": {
      "text/plain": [
       "Strongly agree (5)       194\n",
       "Agree (4)                 42\n",
       "Strongly disagree (1)     18\n",
       "indifferent (3)           15\n",
       "Name: 27 Empathy (readiness to assist with queries) towards the customers, dtype: int64"
      ]
     },
     "execution_count": 46,
     "metadata": {},
     "output_type": "execute_result"
    }
   ],
   "source": [
    "# Empathy (readiness to assist with queries) towards the customers\n",
    "plt.subplots(figsize=(8,6))\n",
    "sns.countplot(x=\"27 Empathy (readiness to assist with queries) towards the customers\", data=df)\n",
    "plt.xticks(rotation=90)\n",
    "plt.xlabel('27 Empathy (readiness to assist with queries) towards the customers')\n",
    "plt.ylabel(\"count\")\n",
    "plt.show()\n",
    "\n",
    "df['27 Empathy (readiness to assist with queries) towards the customers'].value_counts()"
   ]
  },
  {
   "cell_type": "markdown",
   "metadata": {},
   "source": [
    "Observation:\n",
    "\n",
    "most of the customers strongly agree to Empathy (readiness to assist with queries) towards the customers"
   ]
  },
  {
   "cell_type": "code",
   "execution_count": 47,
   "metadata": {},
   "outputs": [
    {
     "data": {
      "image/png": "[encoded data removed]",
      "text/plain": [
       "<Figure size 576x432 with 1 Axes>"
      ]
     },
     "metadata": {
      "needs_background": "light"
     },
     "output_type": "display_data"
    },
    {
     "data": {
      "text/plain": [
       "Strongly agree (5)    185\n",
       "Agree (4)              58\n",
       "indifferent (3)        26\n",
       "Name: 28 Being able to guarantee the privacy of the customer, dtype: int64"
      ]
     },
     "execution_count": 47,
     "metadata": {},
     "output_type": "execute_result"
    }
   ],
   "source": [
    "# Being able to guarantee the privacy of the customer\n",
    "plt.subplots(figsize=(8,6))\n",
    "sns.countplot(x=\"28 Being able to guarantee the privacy of the customer\", data=df)\n",
    "plt.xticks(rotation=0)\n",
    "plt.xlabel('28 Being able to guarantee the privacy of the customer')\n",
    "plt.ylabel(\"count\")\n",
    "plt.show()\n",
    "\n",
    "df['28 Being able to guarantee the privacy of the customer'].value_counts()"
   ]
  },
  {
   "cell_type": "markdown",
   "metadata": {},
   "source": [
    "Observation:\n",
    "\n",
    "Most of the customers strongly agree that the customer privacy is important."
   ]
  },
  {
   "cell_type": "code",
   "execution_count": 48,
   "metadata": {},
   "outputs": [
    {
     "data": {
      "image/png": "[encoded data removed]",
      "text/plain": [
       "<Figure size 576x432 with 1 Axes>"
      ]
     },
     "metadata": {
      "needs_background": "light"
     },
     "output_type": "display_data"
    },
    {
     "data": {
      "text/plain": [
       "Strongly agree (5)       149\n",
       "Agree (4)                 94\n",
       "indifferent (3)           15\n",
       "Strongly disagree (1)     11\n",
       "Name: 29 Responsiveness, availability of several communication channels (email, online rep, twitter, phone etc.), dtype: int64"
      ]
     },
     "execution_count": 48,
     "metadata": {},
     "output_type": "execute_result"
    }
   ],
   "source": [
    "# Responsiveness, availability of several communication channels (email, online rep, twitter, phone etc.)\n",
    "plt.subplots(figsize=(8,6))\n",
    "sns.countplot(x=\"29 Responsiveness, availability of several communication channels (email, online rep, twitter, phone etc.)\", data=df)\n",
    "plt.xticks(rotation=90)\n",
    "plt.xlabel('29 Responsiveness, availability of several communication channels (email, online rep, twitter, phone etc.)')\n",
    "plt.ylabel(\"count\")\n",
    "plt.show()\n",
    "\n",
    "df['29 Responsiveness, availability of several communication channels (email, online rep, twitter, phone etc.)'].value_counts()"
   ]
  },
  {
   "cell_type": "markdown",
   "metadata": {},
   "source": [
    "Observation:\n",
    "\n",
    "Most of the customers strongly agree to Responsiveness, availability of several communication channels (email, online rep, twitter, phone etc.)"
   ]
  },
  {
   "cell_type": "code",
   "execution_count": 49,
   "metadata": {},
   "outputs": [
    {
     "data": {
      "image/png": "[encoded data removed]",
      "text/plain": [
       "<Figure size 576x432 with 1 Axes>"
      ]
     },
     "metadata": {
      "needs_background": "light"
     },
     "output_type": "display_data"
    },
    {
     "data": {
      "text/plain": [
       "Strongly agree (5)       105\n",
       "Agree (4)                 85\n",
       "indifferent (3)           50\n",
       "Strongly disagree (1)     18\n",
       "Dis-agree (2)             11\n",
       "Name: 30 Online shopping gives monetary benefit and discounts, dtype: int64"
      ]
     },
     "execution_count": 49,
     "metadata": {},
     "output_type": "execute_result"
    }
   ],
   "source": [
    "# Online shopping gives monetary benefit and discounts\n",
    "plt.subplots(figsize=(8,6))\n",
    "sns.countplot(x=\"30 Online shopping gives monetary benefit and discounts\", data=df)\n",
    "plt.xticks(rotation=0)\n",
    "plt.xlabel('30 Online shopping gives monetary benefit and discounts')\n",
    "plt.ylabel(\"count\")\n",
    "plt.show()\n",
    "\n",
    "df['30 Online shopping gives monetary benefit and discounts'].value_counts()"
   ]
  },
  {
   "cell_type": "markdown",
   "metadata": {},
   "source": [
    "Observation:\n",
    "\n",
    "Most of the customers Strongly agree that Online shopping gives monetary benefit and discounts"
   ]
  },
  {
   "cell_type": "code",
   "execution_count": 51,
   "metadata": {},
   "outputs": [
    {
     "data": {
      "image/png": "[encoded data removed]",
      "text/plain": [
       "<Figure size 576x432 with 1 Axes>"
      ]
     },
     "metadata": {
      "needs_background": "light"
     },
     "output_type": "display_data"
    },
    {
     "data": {
      "text/plain": [
       "Strongly agree (5)       86\n",
       "indifferent (3)          75\n",
       "Agree (4)                59\n",
       "Strongly disagree (1)    30\n",
       "Dis-agree (2)            19\n",
       "Name: 31 Enjoyment is derived from shopping online, dtype: int64"
      ]
     },
     "execution_count": 51,
     "metadata": {},
     "output_type": "execute_result"
    }
   ],
   "source": [
    "# Enjoyment is derived from shopping online\n",
    "plt.subplots(figsize=(8,6))\n",
    "sns.countplot(x=\"31 Enjoyment is derived from shopping online\", data=df)\n",
    "plt.xticks(rotation=90)\n",
    "plt.xlabel('31 Enjoyment is derived from shopping online')\n",
    "plt.ylabel(\"count\")\n",
    "plt.show()\n",
    "\n",
    "df['31 Enjoyment is derived from shopping online'].value_counts()"
   ]
  },
  {
   "cell_type": "markdown",
   "metadata": {},
   "source": [
    "Observation:\n",
    "\n",
    "86 customers Strongly agree that Enjoyment is derived from shopping online"
   ]
  },
  {
   "cell_type": "code",
   "execution_count": 53,
   "metadata": {},
   "outputs": [
    {
     "data": {
      "image/png": "[encoded data removed]",
      "text/plain": [
       "<Figure size 576x432 with 1 Axes>"
      ]
     },
     "metadata": {
      "needs_background": "light"
     },
     "output_type": "display_data"
    },
    {
     "data": {
      "text/plain": [
       "Strongly agree (5)    146\n",
       "Agree (4)              78\n",
       "indifferent (3)        33\n",
       "Dis-agree (2)          12\n",
       "Name: 32 Shopping online is convenient and flexible, dtype: int64"
      ]
     },
     "execution_count": 53,
     "metadata": {},
     "output_type": "execute_result"
    }
   ],
   "source": [
    "#checking the column 32 Shopping online is convenient and flexible\n",
    "plt.subplots(figsize=(8,6))\n",
    "sns.countplot(x=\"32 Shopping online is convenient and flexible\", data=df)\n",
    "plt.xticks(rotation=0)\n",
    "plt.xlabel('32 Shopping online is convenient and flexible')\n",
    "plt.ylabel(\"count\")\n",
    "plt.show()\n",
    "\n",
    "df['32 Shopping online is convenient and flexible'].value_counts()"
   ]
  },
  {
   "cell_type": "markdown",
   "metadata": {},
   "source": [
    "Observation:\n",
    "\n",
    "Most of the customers strongly agree to Shopping online is convenient and flexible"
   ]
  },
  {
   "cell_type": "code",
   "execution_count": 55,
   "metadata": {},
   "outputs": [
    {
     "data": {
      "image/png": "[encoded data removed]",
      "text/plain": [
       "<Figure size 576x432 with 1 Axes>"
      ]
     },
     "metadata": {
      "needs_background": "light"
     },
     "output_type": "display_data"
    },
    {
     "data": {
      "text/plain": [
       "Strongly agree (5)    198\n",
       "Agree (4)              51\n",
       "Dis-agree (2)          20\n",
       "Name: 33 Return and replacement policy of the e-tailer is important for purchase decision, dtype: int64"
      ]
     },
     "execution_count": 55,
     "metadata": {},
     "output_type": "execute_result"
    }
   ],
   "source": [
    "# Return and replacement policy of the e-tailer is important for purchase decision\n",
    "plt.subplots(figsize=(8,6))\n",
    "sns.countplot(x=\"33 Return and replacement policy of the e-tailer is important for purchase decision\", data=df)\n",
    "plt.xticks(rotation=0)\n",
    "plt.xlabel('33 Return and replacement policy of the e-tailer is important for purchase decision')\n",
    "plt.ylabel(\"count\")\n",
    "plt.show()\n",
    "\n",
    "df['33 Return and replacement policy of the e-tailer is important for purchase decision'].value_counts()"
   ]
  },
  {
   "cell_type": "markdown",
   "metadata": {},
   "source": [
    "Observation:\n",
    "\n",
    "Most of the customers Strongly agree to Return and replacement policy of the e-tailer is important for purchase decision"
   ]
  },
  {
   "cell_type": "code",
   "execution_count": 57,
   "metadata": {},
   "outputs": [
    {
     "data": {
      "image/png": "[encoded data removed]",
      "text/plain": [
       "<Figure size 576x432 with 1 Axes>"
      ]
     },
     "metadata": {
      "needs_background": "light"
     },
     "output_type": "display_data"
    },
    {
     "data": {
      "text/plain": [
       "Strongly agree (5)       115\n",
       "indifferent (3)           64\n",
       "Agree (4)                 64\n",
       "Dis-agree (2)             15\n",
       "Strongly disagree (1)     11\n",
       "Name: 34 Gaining access to loyalty programs is a benefit of shopping online, dtype: int64"
      ]
     },
     "execution_count": 57,
     "metadata": {},
     "output_type": "execute_result"
    }
   ],
   "source": [
    "# Gaining access to loyalty programs is a benefit of shopping online\n",
    "plt.subplots(figsize=(8,6))\n",
    "sns.countplot(x=\"34 Gaining access to loyalty programs is a benefit of shopping online\", data=df)\n",
    "plt.xticks(rotation=0)\n",
    "plt.xlabel('34 Gaining access to loyalty programs is a benefit of shopping online')\n",
    "plt.ylabel(\"count\")\n",
    "plt.show()\n",
    "\n",
    "df['34 Gaining access to loyalty programs is a benefit of shopping online'].value_counts()"
   ]
  },
  {
   "cell_type": "markdown",
   "metadata": {},
   "source": [
    "Observation:\n",
    "\n",
    "Most of the customers Strongly agree to Gaining access that loyalty programs is a benefit of shopping online"
   ]
  },
  {
   "cell_type": "code",
   "execution_count": 58,
   "metadata": {},
   "outputs": [
    {
     "data": {
      "image/png": "[encoded data removed]",
      "text/plain": [
       "<Figure size 576x432 with 1 Axes>"
      ]
     },
     "metadata": {
      "needs_background": "light"
     },
     "output_type": "display_data"
    },
    {
     "data": {
      "text/plain": [
       "Strongly agree (5)    133\n",
       "Agree (4)              80\n",
       "indifferent (3)        56\n",
       "Name: 35 Displaying quality Information on the website improves satisfaction of customers, dtype: int64"
      ]
     },
     "execution_count": 58,
     "metadata": {},
     "output_type": "execute_result"
    }
   ],
   "source": [
    "# Displaying quality Information on the website improves satisfaction of customers\n",
    "plt.subplots(figsize=(8,6))\n",
    "sns.countplot(x=\"35 Displaying quality Information on the website improves satisfaction of customers\", data=df)\n",
    "plt.xticks(rotation=0)\n",
    "plt.xlabel('35 Displaying quality Information on the website improves satisfaction of customers')\n",
    "plt.ylabel(\"count\")\n",
    "plt.show()\n",
    "\n",
    "df['35 Displaying quality Information on the website improves satisfaction of customers'].value_counts()"
   ]
  },
  {
   "cell_type": "markdown",
   "metadata": {},
   "source": [
    "Observation:\n",
    "\n",
    "Most of the customers Strongly agree that displaying quality Information on the website improves satisfaction of customers"
   ]
  },
  {
   "cell_type": "code",
   "execution_count": 59,
   "metadata": {},
   "outputs": [
    {
     "data": {
      "image/png": "[encoded data removed]",
      "text/plain": [
       "<Figure size 576x432 with 1 Axes>"
      ]
     },
     "metadata": {
      "needs_background": "light"
     },
     "output_type": "display_data"
    },
    {
     "data": {
      "text/plain": [
       "Strongly agree (5)    175\n",
       "Agree (4)              86\n",
       "Dis-agree (2)           8\n",
       "Name: 36 User derive satisfaction while shopping on a good quality website or application, dtype: int64"
      ]
     },
     "execution_count": 59,
     "metadata": {},
     "output_type": "execute_result"
    }
   ],
   "source": [
    "# User derive satisfaction while shopping on a good quality website or application\n",
    "plt.subplots(figsize=(8,6))\n",
    "sns.countplot(x=\"36 User derive satisfaction while shopping on a good quality website or application\", data=df)\n",
    "plt.xticks(rotation=0)\n",
    "plt.xlabel('36 User derive satisfaction while shopping on a good quality website or application')\n",
    "plt.ylabel(\"count\")\n",
    "plt.show()\n",
    "\n",
    "df['36 User derive satisfaction while shopping on a good quality website or application'].value_counts()"
   ]
  },
  {
   "cell_type": "markdown",
   "metadata": {},
   "source": [
    "Observation:\n",
    "\n",
    "Most of the customers Strongly agree to User derive satisfaction while shopping on a good quality website or application"
   ]
  },
  {
   "cell_type": "code",
   "execution_count": 64,
   "metadata": {},
   "outputs": [
    {
     "data": {
      "image/png": "[encoded data removed]",
      "text/plain": [
       "<Figure size 576x432 with 1 Axes>"
      ]
     },
     "metadata": {
      "needs_background": "light"
     },
     "output_type": "display_data"
    },
    {
     "data": {
      "text/plain": [
       "Amazon.in, Flipkart.com, Paytm.com, Myntra.com, Snapdeal.com    64\n",
       "Amazon.in, Flipkart.com, Myntra.com, Snapdeal.com               44\n",
       "Amazon.in, Flipkart.com                                         44\n",
       "Amazon.in                                                       29\n",
       "Amazon.in, Flipkart.com, Paytm.com, Snapdeal.com                22\n",
       "Amazon.in, Paytm.com, Myntra.com                                20\n",
       "Amazon.in, Flipkart.com, Myntra.com                             19\n",
       "Paytm.com                                                       12\n",
       "Flipkart.com                                                     8\n",
       "Amazon.in, Paytm.com                                             7\n",
       "Name: Easy to use website or application, dtype: int64"
      ]
     },
     "execution_count": 64,
     "metadata": {},
     "output_type": "execute_result"
    }
   ],
   "source": [
    "# Easy to use website or application\n",
    "plt.subplots(figsize=(8,6))\n",
    "sns.countplot(x=\"Easy to use website or application\", data=df)\n",
    "plt.xticks(rotation=90)\n",
    "plt.xlabel('Easy to use website or application')\n",
    "plt.ylabel(\"count\")\n",
    "plt.show()\n",
    "\n",
    "df['Easy to use website or application'].value_counts()"
   ]
  },
  {
   "cell_type": "markdown",
   "metadata": {},
   "source": [
    "Observation:\n",
    "\n",
    "64 customers agree that Amazon.in, Flipkart.com, Paytm.com, Myntra.com, Snapdeal.com are Easy to use website or application"
   ]
  },
  {
   "cell_type": "code",
   "execution_count": 62,
   "metadata": {},
   "outputs": [
    {
     "data": {
      "image/png": "[encoded data removed]",
      "text/plain": [
       "<Figure size 576x432 with 1 Axes>"
      ]
     },
     "metadata": {
      "needs_background": "light"
     },
     "output_type": "display_data"
    },
    {
     "data": {
      "text/plain": [
       "Amazon.in, Flipkart.com                                         87\n",
       "Amazon.in                                                       44\n",
       "Amazon.in, Flipkart.com, Paytm.com, Myntra.com, Snapdeal.com    36\n",
       "Amazon.in, Paytm.com, Myntra.com                                20\n",
       "Flipkart.com, Myntra.com                                        15\n",
       "Myntra.com                                                      15\n",
       "Amazon.in, Myntra.com                                           15\n",
       "Amazon.in, Flipkart.com, Myntra.com, Snapdeal.com               14\n",
       "Flipkart.com                                                    12\n",
       "Amazon.in, Flipkart.com, Paytm.com, Snapdeal.com                11\n",
       "Name: Visual appealing web-page layout, dtype: int64"
      ]
     },
     "execution_count": 62,
     "metadata": {},
     "output_type": "execute_result"
    }
   ],
   "source": [
    "# Visual appealing web-page layout\n",
    "plt.subplots(figsize=(8,6))\n",
    "sns.countplot(x=\"Visual appealing web-page layout\", data=df)\n",
    "plt.xticks(rotation='vertical')\n",
    "plt.xlabel('Visual appealing web-page layout')\n",
    "plt.ylabel(\"count\")\n",
    "plt.show()\n",
    "\n",
    "df['Visual appealing web-page layout'].value_counts()"
   ]
  },
  {
   "cell_type": "markdown",
   "metadata": {},
   "source": [
    "Observation:\n",
    "\n",
    "87 customers agree that Amazon.in, Flipkart.com have better Visual appealing web-page layout"
   ]
  },
  {
   "cell_type": "code",
   "execution_count": 65,
   "metadata": {},
   "outputs": [
    {
     "data": {
      "image/png": "[encoded data removed]",
      "text/plain": [
       "<Figure size 576x432 with 1 Axes>"
      ]
     },
     "metadata": {
      "needs_background": "light"
     },
     "output_type": "display_data"
    },
    {
     "data": {
      "text/plain": [
       "Amazon.in                                            61\n",
       "Amazon.in, Flipkart.com                              50\n",
       "Amazon.in, Flipkart.com, Paytm.com                   36\n",
       "Amazon.in, Paytm.com, Myntra.com                     35\n",
       "Amazon.in, Flipkart.com, Snapdeal.com                18\n",
       "Flipkart.com                                         15\n",
       "Myntra.com                                           15\n",
       "Amazon.in, Flipkart.com, Myntra.com, Snapdeal.com    14\n",
       "Amazon.in, Flipkart.com, Paytm.com, Snapdeal.com     13\n",
       "Paytm.com                                            12\n",
       "Name: Reliability of the website or application, dtype: int64"
      ]
     },
     "execution_count": 65,
     "metadata": {},
     "output_type": "execute_result"
    }
   ],
   "source": [
    "# Reliability of the website or application\n",
    "plt.subplots(figsize=(8,6))\n",
    "sns.countplot(x=\"Reliability of the website or application\", data=df)\n",
    "plt.xticks(rotation='vertical')\n",
    "plt.xlabel('Reliability of the website or application')\n",
    "plt.ylabel(\"count\")\n",
    "plt.show()\n",
    "\n",
    "df['Reliability of the website or application'].value_counts()"
   ]
  },
  {
   "cell_type": "markdown",
   "metadata": {},
   "source": [
    "Observation:\n",
    "\n",
    "61 customers agree that Amazon.in Reliability of the website or application"
   ]
  },
  {
   "cell_type": "code",
   "execution_count": 66,
   "metadata": {},
   "outputs": [
    {
     "data": {
      "image/png": "[encoded data removed]",
      "text/plain": [
       "<Figure size 576x432 with 1 Axes>"
      ]
     },
     "metadata": {
      "needs_background": "light"
     },
     "output_type": "display_data"
    },
    {
     "data": {
      "text/plain": [
       "Snapdeal.com                87\n",
       "Amazon.in                   62\n",
       "Flipkart.com                31\n",
       "Amazon.in, Flipkart.com     29\n",
       "Paytm.com                   25\n",
       "Paytm.com, Snapdeal.com     15\n",
       "Amazon.in, Paytm.com        13\n",
       "Myntra.com, Snapdeal.com     7\n",
       "Name: Limited mode of payment on most products (promotion, sales period), dtype: int64"
      ]
     },
     "execution_count": 66,
     "metadata": {},
     "output_type": "execute_result"
    }
   ],
   "source": [
    "# Limited mode of payment on most products (promotion, sales period)\n",
    "plt.subplots(figsize=(8,6))\n",
    "sns.countplot(x=\"Limited mode of payment on most products (promotion, sales period)\", data=df)\n",
    "plt.xticks(rotation='vertical')\n",
    "plt.xlabel('Limited mode of payment on most products (promotion, sales period)')\n",
    "plt.ylabel(\"count\")\n",
    "plt.show()\n",
    "\n",
    "df['Limited mode of payment on most products (promotion, sales period)'].value_counts()"
   ]
  },
  {
   "cell_type": "markdown",
   "metadata": {},
   "source": [
    "Observation:\n",
    "\n",
    "87 customers agree that snapdeal.com have limited mode of payment for most of the products (promotion, sales period)"
   ]
  },
  {
   "cell_type": "code",
   "execution_count": 67,
   "metadata": {},
   "outputs": [
    {
     "data": {
      "image/png": "[encoded data removed]",
      "text/plain": [
       "<Figure size 576x432 with 1 Axes>"
      ]
     },
     "metadata": {
      "needs_background": "light"
     },
     "output_type": "display_data"
    },
    {
     "data": {
      "text/plain": [
       "Amazon.in                             94\n",
       "Flipkart.com                          47\n",
       "Amazon.in, Flipkart.com               45\n",
       "Amazon.in, Flipkart.com, Paytm.com    25\n",
       "Amazon.in, Paytm.com                  18\n",
       "Paytm.com                             15\n",
       "Myntra.com, Snapdeal.com              14\n",
       "Snapdeal.com                          11\n",
       "Name: Website is as efficient as before, dtype: int64"
      ]
     },
     "execution_count": 67,
     "metadata": {},
     "output_type": "execute_result"
    }
   ],
   "source": [
    "# Website is as efficient as before\n",
    "plt.subplots(figsize=(8,6))\n",
    "sns.countplot(x=\"Website is as efficient as before\", data=df)\n",
    "plt.xticks(rotation='vertical')\n",
    "plt.xlabel('Website is as efficient as before')\n",
    "plt.ylabel(\"count\")\n",
    "plt.show()\n",
    "\n",
    "df['Website is as efficient as before'].value_counts()"
   ]
  },
  {
   "cell_type": "markdown",
   "metadata": {},
   "source": [
    "Observation:\n",
    "\n",
    "94 customers agree to Amazon.in that Website is as efficient as before"
   ]
  },
  {
   "cell_type": "code",
   "execution_count": 68,
   "metadata": {},
   "outputs": [
    {
     "data": {
      "image/png": "[encoded data removed]",
      "text/plain": [
       "<Figure size 576x432 with 1 Axes>"
      ]
     },
     "metadata": {
      "needs_background": "light"
     },
     "output_type": "display_data"
    },
    {
     "data": {
      "text/plain": [
       "Amazon.in                                            79\n",
       "Amazon.in, Flipkart.com                              62\n",
       "Flipkart.com                                         39\n",
       "Amazon.in, Myntra.com                                30\n",
       "Amazon.in, Paytm.com, Myntra.com                     20\n",
       "Amazon.in, Flipkart.com, Myntra.com                  15\n",
       "Amazon.in, Paytm.com                                 13\n",
       "Flipkart.com, Paytm.com, Myntra.com, snapdeal.com    11\n",
       "Name: Which of the Indian online retailer would you recommend to a friend?, dtype: int64"
      ]
     },
     "execution_count": 68,
     "metadata": {},
     "output_type": "execute_result"
    }
   ],
   "source": [
    "# Which of the Indian online retailer would you recommend to a friend?\n",
    "plt.subplots(figsize=(8,6))\n",
    "sns.countplot(x=\"Which of the Indian online retailer would you recommend to a friend?\", data=df)\n",
    "plt.xticks(rotation='vertical')\n",
    "plt.xlabel('Which of the Indian online retailer would you recommend to a friend?')\n",
    "plt.ylabel(\"count\")\n",
    "plt.show()\n",
    "\n",
    "df['Which of the Indian online retailer would you recommend to a friend?'].value_counts()"
   ]
  },
  {
   "cell_type": "markdown",
   "metadata": {},
   "source": [
    "Observation:\n",
    "\n",
    "79 customers agree to Amazon.in to recommend to a friend"
   ]
  }
 ],
 "metadata": {
  "kernelspec": {
   "display_name": "Python 3",
   "language": "python",
   "name": "python3"
  },
  "language_info": {
   "codemirror_mode": {
    "name": "ipython",
    "version": 3
   },
   "file_extension": ".py",
   "mimetype": "text/x-python",
   "name": "python",
   "nbconvert_exporter": "python",
   "pygments_lexer": "ipython3",
   "version": "3.8.5"
  }
 },
 "nbformat": 4,
 "nbformat_minor": 4
}
